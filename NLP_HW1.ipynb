{
  "nbformat": 4,
  "nbformat_minor": 0,
  "metadata": {
    "colab": {
      "name": "NLP-HW1.ipynb",
      "private_outputs": true,
      "provenance": [],
      "collapsed_sections": [],
      "authorship_tag": "ABX9TyMZ0gmWJFVwbM5c0HpCICFA",
      "include_colab_link": true
    },
    "kernelspec": {
      "name": "python3",
      "display_name": "Python 3"
    },
    "language_info": {
      "name": "python"
    }
  },
  "cells": [
    {
      "cell_type": "markdown",
      "metadata": {
        "id": "view-in-github",
        "colab_type": "text"
      },
      "source": [
        "<a href=\"https://colab.research.google.com/github/pam-lab/Farsi_Space_Fixer/blob/main/NLP_HW1.ipynb\" target=\"_parent\"><img src=\"https://colab.research.google.com/assets/colab-badge.svg\" alt=\"Open In Colab\"/></a>"
      ]
    },
    {
      "cell_type": "markdown",
      "source": [
        "## Project Steps\n",
        "- [x] Work breakdown\n",
        "- [ ] Processing verbs ->(Pouya)\n",
        "- [ ] POS tagging -> (Pouya)\n",
        "- [ ] Specify syllables -> (Mahdi)\n",
        "- [ ] Name Processing(e.g, Plural nouns) ->(Mahdi)\n",
        "- [ ] Adjective Processing(e.g, ترین) ->(Amir)\n",
        "- [ ] Final Report ->(Mahdi)\n",
        "- [ ] Web API(Extra score)\n",
        "\n",
        "## Related Links\n",
        "*    [آداب نوشتار](https://drive.google.com/file/d/1eeE3sWoe-U-YzhbXXKrMlVCzeL8GNcl8/view)\n",
        "\n",
        "*    [نیم‌فاصله-ویکی‌پدیا](https://fa.wikipedia.org/wiki/%D9%88%DB%8C%DA%A9%DB%8C%E2%80%8C%D9%BE%D8%AF%DB%8C%D8%A7:%D9%86%DB%8C%D9%85%E2%80%8C%D9%81%D8%A7%D8%B5%D9%84%D9%87)\n",
        "\n",
        "*    [قوانین دستور خط](https://virastaran.net/khat/)\n",
        "*    [راهنمای پردازش زبان طبیعی-فرادرس](https://blog.faradars.org/practitioners-guide-to-natural-language-processing-part-i-processing-understanding-text/)\n",
        "\n",
        "## Notes\n",
        "\n",
        "\n",
        "*   Please develop sections completely modular with functions.\n",
        "*   Dont forgot clean code !!!\n",
        "*   Use [Hazm](https://github.com/sobhe/hazm) for processing.\n",
        "\n"
      ],
      "metadata": {
        "id": "kcWPuYKvdNMk"
      }
    },
    {
      "cell_type": "code",
      "execution_count": null,
      "metadata": {
        "id": "h6SKT2i-HW2R"
      },
      "outputs": [],
      "source": [
        ""
      ]
    }
  ]
}