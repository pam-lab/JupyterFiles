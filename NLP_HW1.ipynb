{
  "nbformat": 4,
  "nbformat_minor": 0,
  "metadata": {
    "colab": {
      "name": "NLP-HW1.ipynb",
      "private_outputs": true,
      "provenance": [],
      "collapsed_sections": [],
      "include_colab_link": true
    },
    "kernelspec": {
      "name": "python3",
      "display_name": "Python 3"
    },
    "language_info": {
      "name": "python"
    }
  },
  "cells": [
    {
      "cell_type": "markdown",
      "metadata": {
        "id": "view-in-github",
        "colab_type": "text"
      },
      "source": [
        "<a href=\"https://colab.research.google.com/github/pam-lab/Farsi_Space_Fixer/blob/main/NLP_HW1.ipynb\" target=\"_parent\"><img src=\"https://colab.research.google.com/assets/colab-badge.svg\" alt=\"Open In Colab\"/></a>"
      ]
    },
    {
      "cell_type": "markdown",
      "source": [
        "## Project Steps\n",
        "- [x] Work breakdown\n",
        "- [ ] Processing verbs ->(Pouya)\n",
        "- [ ] POS tagging -> (Pouya)\n",
        "- [ ] Specify syllables -> (Mahdi)\n",
        "- [ ] Name Processing(e.g, Plural nouns) ->(Mahdi)\n",
        "- [ ] Adjective Processing(e.g, ترین) ->(Amir)\n",
        "- [ ] Final Report ->(Mahdi)\n",
        "- [ ] Web API(Extra score)\n",
        "\n",
        "## Related Links\n",
        "*    [آداب نوشتار](https://drive.google.com/file/d/1eeE3sWoe-U-YzhbXXKrMlVCzeL8GNcl8/view)\n",
        "\n",
        "*    [نیم‌فاصله-ویکی‌پدیا](https://fa.wikipedia.org/wiki/%D9%88%DB%8C%DA%A9%DB%8C%E2%80%8C%D9%BE%D8%AF%DB%8C%D8%A7:%D9%86%DB%8C%D9%85%E2%80%8C%D9%81%D8%A7%D8%B5%D9%84%D9%87)\n",
        "\n",
        "*    [قوانین دستور خط](https://virastaran.net/khat/)\n",
        "*    [راهنمای پردازش زبان طبیعی-فرادرس](https://blog.faradars.org/practitioners-guide-to-natural-language-processing-part-i-processing-understanding-text/)\n",
        "\n",
        "## Notes\n",
        "\n",
        "\n",
        "*   Please develop sections completely modular with functions.\n",
        "*   Dont forgot clean code !!!\n",
        "*   Use [Hazm](https://github.com/sobhe/hazm) for processing.\n",
        "\n"
      ],
      "metadata": {
        "id": "kcWPuYKvdNMk"
      }
    },
    {
      "cell_type": "code",
      "execution_count": null,
      "metadata": {
        "id": "h6SKT2i-HW2R"
      },
      "outputs": [],
      "source": [
        "# Download verbs dataset which is downloaded from \n",
        "# https://www.peykaregan.ir/dataset/%D9%85%D8%AC%D9%85%D9%88%D8%B9%D9%87-%D8%A7%D9%81%D8%B9%D8%A7%D9%84-%D8%AA%D8%B5%D8%B1%DB%8C%D9%81%E2%80%8C%D8%B4%D8%AF%D9%87-%D9%81%D8%A7%D8%B1%D8%B3%DB%8C\n",
        "!gdown --id 1aIDGD3hHjDyWZ5i8vmgtMxRAzSxGFCWY \n",
        "\n",
        "!unzip PVC.zip && cd PVC/Data && unzip '*.zip'"
      ]
    },
    {
      "cell_type": "code",
      "source": [
        "!pip install xmltodict\n",
        "import xmltodict"
      ],
      "metadata": {
        "id": "GnH-q36726SU"
      },
      "execution_count": null,
      "outputs": []
    },
    {
      "cell_type": "code",
      "source": [
        "from pathlib import Path\n",
        "base_path='/content/PVC/Data/XML/'\n",
        "infinitive=Path(base_path+'infinitive.xml').read_text()\n",
        "infinitive_english_translation=Path(base_path+'infinitive_english_translation.xml').read_text()\n",
        "verb=Path(base_path+'verb.xml').read_text()\n",
        "\n",
        "infinitive=xmltodict.parse(infinitive)\n",
        "infinitive_english_translation=xmltodict.parse(infinitive_english_translation)\n",
        "# verb=xmltodict.parse(verb)"
      ],
      "metadata": {
        "id": "MiLgCBMs_Gsz"
      },
      "execution_count": null,
      "outputs": []
    },
    {
      "cell_type": "code",
      "source": [
        "import pandas as pd\n",
        "pd.Series(infinitive[\"RECORDS\"])"
      ],
      "metadata": {
        "id": "id348bZ1paSe"
      },
      "execution_count": null,
      "outputs": []
    },
    {
      "cell_type": "code",
      "source": [
        ""
      ],
      "metadata": {
        "id": "UJMQBwWOrbn_"
      },
      "execution_count": null,
      "outputs": []
    },
    {
      "cell_type": "code",
      "source": [
        ""
      ],
      "metadata": {
        "id": "w7H5znVCr1n2"
      },
      "execution_count": null,
      "outputs": []
    },
    {
      "cell_type": "code",
      "source": [
        ""
      ],
      "metadata": {
        "id": "iwiGWF72NU6e"
      },
      "execution_count": null,
      "outputs": []
    }
  ]
}