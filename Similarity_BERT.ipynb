{
  "nbformat": 4,
  "nbformat_minor": 0,
  "metadata": {
    "colab": {
      "name": "Similarity_BERT.ipynb",
      "provenance": [],
      "authorship_tag": "ABX9TyO4hNF+bWd0cNFdeSAFTvTR",
      "include_colab_link": true
    },
    "kernelspec": {
      "name": "python3",
      "display_name": "Python 3"
    },
    "language_info": {
      "name": "python"
    }
  },
  "cells": [
    {
      "cell_type": "markdown",
      "metadata": {
        "id": "view-in-github",
        "colab_type": "text"
      },
      "source": [
        "<a href=\"https://colab.research.google.com/github/pam-lab/JupyterFiles/blob/main/Similarity_BERT.ipynb\" target=\"_parent\"><img src=\"https://colab.research.google.com/assets/colab-badge.svg\" alt=\"Open In Colab\"/></a>"
      ]
    },
    {
      "cell_type": "markdown",
      "source": [
        "# Data Loading and processing"
      ],
      "metadata": {
        "id": "O67Vn__gWwG8"
      }
    },
    {
      "cell_type": "code",
      "execution_count": null,
      "metadata": {
        "colab": {
          "base_uri": "https://localhost:8080/"
        },
        "id": "ZiTZi38tNA-R",
        "outputId": "15862467-5c74-47d5-cd8a-e5d376f5f351"
      },
      "outputs": [
        {
          "output_type": "stream",
          "name": "stdout",
          "text": [
            "fatal: destination path 'course-nlp-ir-1-text-exploring' already exists and is not an empty directory.\n"
          ]
        }
      ],
      "source": [
        "!git clone https://github.com/language-ml/course-nlp-ir-1-text-exploring"
      ]
    },
    {
      "cell_type": "code",
      "source": [
        "import _pickle as pickle\n",
        "\n",
        "class RomanizeUtility():\n",
        "\n",
        "    def __init__(self,base_path):\n",
        "        self.arabic2roman = RomanizeUtility.load_obj(f'{base_path}/data_config/arabic2roman.pickle')\n",
        "        self.roman2arabic = RomanizeUtility.load_obj(f'{base_path}/data_config/roman2arabic.pickle')\n",
        "\n",
        "    @staticmethod\n",
        "    def load_obj(filename):\n",
        "        return pickle.load(open(filename, \"rb\"))\n",
        "        \n",
        "    def get_arabic_token(self, token):\n",
        "        '''\n",
        "        :param token:\n",
        "        :return:\n",
        "        '''\n",
        "        return ''.join([self.roman2arabic[e1] for e1 in list(token) if e1 in self.roman2arabic])\n",
        "\n",
        "    def get_romanize_token(self, token):\n",
        "        '''\n",
        "        :param token:\n",
        "        :return:\n",
        "        '''\n",
        "        return ''.join([self.arabic2roman[e1] for e1 in list(token) if e1 in self.arabic2roman])\n",
        "\n",
        "    def get_arabic_text(self, text):\n",
        "        '''\n",
        "        :param text:\n",
        "        :return:\n",
        "        '''\n",
        "        return  ' '.join([self.get_arabic_token(x) for x in text.split()])"
      ],
      "metadata": {
        "id": "eqpm6qw3PzTR"
      },
      "execution_count": null,
      "outputs": []
    },
    {
      "cell_type": "code",
      "source": [
        "import random \n",
        "import nltk\n",
        "import pandas as pd\n",
        "import codecs\n",
        "import tqdm\n",
        "\n",
        "quranic_dir = \"/content/course-nlp-ir-1-text-exploring/exploring-datasets/religious_text/quranic_data\"\n",
        "df = pd.read_csv(f'{quranic_dir}/id_text_with_orthographies.txt', sep='\\t', header=None)\n",
        "verse_complete_dict = pd.Series(df[1].tolist(), index=df[0]).to_dict()\n",
        "\n",
        "\n",
        "# ROOT/LEMMA\n",
        "ru=RomanizeUtility(quranic_dir)\n",
        "verse_lemma_dict = {line.split()[1]:ru.get_arabic_text(' '.join(line.split()[2::]))\n",
        "                     for line in [l.strip() \n",
        "                     for l in codecs.open(F'{quranic_dir}/id_quran_lem.txt','r','utf-8').readlines()]}\n",
        "verse_root_dict = {line.split()[1]:ru.get_arabic_text(' '.join(line.split()[2::])) \n",
        "                    for line in [l.strip() \n",
        "                    for l in codecs.open(F'{quranic_dir}/id_quran_roots.txt','r','utf-8').readlines()]}"
      ],
      "metadata": {
        "id": "qqOLyjhGS3cx"
      },
      "execution_count": null,
      "outputs": []
    },
    {
      "cell_type": "code",
      "source": [
        "verse_complete_dict['2##186']"
      ],
      "metadata": {
        "colab": {
          "base_uri": "https://localhost:8080/",
          "height": 36
        },
        "id": "hG44UkxzTSj_",
        "outputId": "9f38c806-3051-41be-d29a-abe78cadf551"
      },
      "execution_count": null,
      "outputs": [
        {
          "output_type": "execute_result",
          "data": {
            "text/plain": [
              "'وَإِذَا سَأَلَكَ عِبَادِي عَنِّي فَإِنِّي قَرِيبٌ ۖ أُجِيبُ دَعْوَةَ الدَّاعِ إِذَا دَعَانِ ۖ فَلْيَسْتَجِيبُوا لِي وَلْيُؤْمِنُوا بِي لَعَلَّهُمْ يَرْشُدُونَ'"
            ],
            "application/vnd.google.colaboratory.intrinsic+json": {
              "type": "string"
            }
          },
          "metadata": {},
          "execution_count": 4
        }
      ]
    },
    {
      "cell_type": "code",
      "source": [
        "verse_lemma_dict['2##186']"
      ],
      "metadata": {
        "colab": {
          "base_uri": "https://localhost:8080/",
          "height": 36
        },
        "id": "08VjfAteVIr1",
        "outputId": "04e2abea-e9e5-4aa6-d01e-110954a263e3"
      },
      "execution_count": null,
      "outputs": [
        {
          "output_type": "execute_result",
          "data": {
            "text/plain": [
              "'إِذَا سَأَلَ عَبْد عَن إِنّ قَرِیب أُجِیبَت دَعْوَة دَّاع إِذَا دَعَا ٱسْتَجَابَ ءَامَنَ لَعَلّ یَرْشُدُ'"
            ],
            "application/vnd.google.colaboratory.intrinsic+json": {
              "type": "string"
            }
          },
          "metadata": {},
          "execution_count": 5
        }
      ]
    },
    {
      "cell_type": "code",
      "source": [
        "verse_root_dict['2##186']"
      ],
      "metadata": {
        "colab": {
          "base_uri": "https://localhost:8080/",
          "height": 36
        },
        "id": "_5acdKtdVLWD",
        "outputId": "bf366ca2-b122-469f-9ef6-b14bb7281334"
      },
      "execution_count": null,
      "outputs": [
        {
          "output_type": "execute_result",
          "data": {
            "text/plain": [
              "'سال عبد قرب جوب دعو دعو دعو جوب امن رشد'"
            ],
            "application/vnd.google.colaboratory.intrinsic+json": {
              "type": "string"
            }
          },
          "metadata": {},
          "execution_count": 6
        }
      ]
    },
    {
      "cell_type": "markdown",
      "source": [
        "### Normalize"
      ],
      "metadata": {
        "id": "x0Qok8hCW-MM"
      }
    },
    {
      "cell_type": "code",
      "source": [
        "pip install -Uq camel_tools"
      ],
      "metadata": {
        "id": "dWoFs-Z7VNhh",
        "colab": {
          "base_uri": "https://localhost:8080/"
        },
        "outputId": "2003bffa-fb2e-4ae6-996f-bea88519b48e"
      },
      "execution_count": null,
      "outputs": [
        {
          "output_type": "stream",
          "name": "stdout",
          "text": [
            "\u001b[K     |████████████████████████████████| 104 kB 4.4 MB/s \n",
            "\u001b[K     |████████████████████████████████| 175 kB 30.9 MB/s \n",
            "\u001b[K     |████████████████████████████████| 418 kB 40.3 MB/s \n",
            "\u001b[K     |████████████████████████████████| 4.2 MB 34.6 MB/s \n",
            "\u001b[K     |████████████████████████████████| 596 kB 40.7 MB/s \n",
            "\u001b[K     |████████████████████████████████| 6.6 MB 16.2 MB/s \n",
            "\u001b[K     |████████████████████████████████| 86 kB 4.8 MB/s \n",
            "\u001b[?25h  Building wheel for camel-kenlm (setup.py) ... \u001b[?25l\u001b[?25hdone\n",
            "  Building wheel for emoji (setup.py) ... \u001b[?25l\u001b[?25hdone\n"
          ]
        }
      ]
    },
    {
      "cell_type": "code",
      "source": [
        "from camel_tools.utils.normalize import normalize_unicode\n",
        "from camel_tools.utils.normalize import normalize_alef_maksura_ar\n",
        "from camel_tools.utils.normalize import normalize_alef_ar\n",
        "\n",
        "from camel_tools.utils.normalize import normalize_alef_bw\n",
        "from camel_tools.utils.normalize import normalize_alef_hsb\n",
        "\n",
        "from camel_tools.utils.normalize import normalize_teh_marbuta_ar\n",
        "from camel_tools.utils.dediac import dediac_ar\n",
        "\n",
        "def normalize_arabic(sentence):\n",
        "\n",
        "    # Normalize alef variants to 'ا'\n",
        "    sent_norm = normalize_unicode(sentence)\n",
        "    \n",
        "    sent_norm = normalize_alef_bw(sent_norm)\n",
        "    # Normalize alef variants to 'ا'\n",
        "    sent_norm = normalize_alef_ar(sentence)\n",
        "\n",
        "    # Normalize alef maksura 'ى' to yeh 'ي'\n",
        "    sent_norm = normalize_alef_maksura_ar(sent_norm)\n",
        "\n",
        "    # Normalize teh marbuta 'ة' to heh 'ه'\n",
        "    sent_norm = normalize_teh_marbuta_ar(sent_norm)\n",
        "    return dediac_ar(sent_norm)"
      ],
      "metadata": {
        "id": "SBZgSk_qVfPf"
      },
      "execution_count": null,
      "outputs": []
    },
    {
      "cell_type": "code",
      "source": [
        "from camel_tools.utils import normalize\n",
        "\n",
        "\n",
        "verse_complete_dict_nrmlz = {k:normalize_arabic(v) for k,v in tqdm.tqdm(verse_complete_dict.items())}"
      ],
      "metadata": {
        "colab": {
          "base_uri": "https://localhost:8080/"
        },
        "id": "PgTbrIJQV6Do",
        "outputId": "95dec961-d5b7-4a22-e6e7-b7bfba70a83c"
      },
      "execution_count": null,
      "outputs": [
        {
          "output_type": "stream",
          "name": "stderr",
          "text": [
            "100%|██████████| 6236/6236 [00:00<00:00, 10624.15it/s]\n"
          ]
        }
      ]
    },
    {
      "cell_type": "code",
      "source": [
        "verse_complete_dict['2##186']"
      ],
      "metadata": {
        "colab": {
          "base_uri": "https://localhost:8080/",
          "height": 36
        },
        "id": "VhfSxrvmWDYr",
        "outputId": "112add99-b2be-4dc2-c0ce-602c469146d2"
      },
      "execution_count": null,
      "outputs": [
        {
          "output_type": "execute_result",
          "data": {
            "text/plain": [
              "'وَإِذَا سَأَلَكَ عِبَادِي عَنِّي فَإِنِّي قَرِيبٌ ۖ أُجِيبُ دَعْوَةَ الدَّاعِ إِذَا دَعَانِ ۖ فَلْيَسْتَجِيبُوا لِي وَلْيُؤْمِنُوا بِي لَعَلَّهُمْ يَرْشُدُونَ'"
            ],
            "application/vnd.google.colaboratory.intrinsic+json": {
              "type": "string"
            }
          },
          "metadata": {},
          "execution_count": 10
        }
      ]
    },
    {
      "cell_type": "code",
      "source": [
        "verse_complete_dict_nrmlz['2##186']"
      ],
      "metadata": {
        "colab": {
          "base_uri": "https://localhost:8080/",
          "height": 36
        },
        "id": "Ua0PKTC0WI7D",
        "outputId": "b0de4627-e043-48cb-a8b0-b787cb900a74"
      },
      "execution_count": null,
      "outputs": [
        {
          "output_type": "execute_result",
          "data": {
            "text/plain": [
              "'واذا سالك عبادي عني فاني قريب ۖ اجيب دعوه الداع اذا دعان ۖ فليستجيبوا لي وليؤمنوا بي لعلهم يرشدون'"
            ],
            "application/vnd.google.colaboratory.intrinsic+json": {
              "type": "string"
            }
          },
          "metadata": {},
          "execution_count": 11
        }
      ]
    },
    {
      "cell_type": "code",
      "source": [
        "quranic_tokenized = [sents.split() for sents in tqdm.tqdm(verse_complete_dict_nrmlz.values())]"
      ],
      "metadata": {
        "colab": {
          "base_uri": "https://localhost:8080/"
        },
        "id": "MPLCLAWyWvJ7",
        "outputId": "0423fcae-6040-4844-c64b-5990e04e57ce"
      },
      "execution_count": null,
      "outputs": [
        {
          "output_type": "stream",
          "name": "stderr",
          "text": [
            "100%|██████████| 6236/6236 [00:00<00:00, 86210.84it/s]\n"
          ]
        }
      ]
    },
    {
      "cell_type": "code",
      "source": [
        "quranic_tokenized[43]"
      ],
      "metadata": {
        "colab": {
          "base_uri": "https://localhost:8080/"
        },
        "id": "VzDxGwAeWO0f",
        "outputId": "73678482-d138-4902-a3d7-5d7f14ae0bf3"
      },
      "execution_count": null,
      "outputs": [
        {
          "output_type": "execute_result",
          "data": {
            "text/plain": [
              "['فتلقي',\n",
              " 'ادم',\n",
              " 'من',\n",
              " 'ربه',\n",
              " 'كلمات',\n",
              " 'فتاب',\n",
              " 'عليه',\n",
              " 'ۚ',\n",
              " 'انه',\n",
              " 'هو',\n",
              " 'التواب',\n",
              " 'الرحيم']"
            ]
          },
          "metadata": {},
          "execution_count": 13
        }
      ]
    },
    {
      "cell_type": "code",
      "source": [
        ""
      ],
      "metadata": {
        "id": "FAjmjfiKXmAm"
      },
      "execution_count": null,
      "outputs": []
    }
  ]
}