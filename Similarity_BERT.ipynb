{
  "nbformat": 4,
  "nbformat_minor": 0,
  "metadata": {
    "colab": {
      "name": "Similarity_BERT.ipynb",
      "provenance": [],
      "authorship_tag": "ABX9TyOXPx51qftcJCFCc9AeCiXX",
      "include_colab_link": true
    },
    "kernelspec": {
      "name": "python3",
      "display_name": "Python 3"
    },
    "language_info": {
      "name": "python"
    }
  },
  "cells": [
    {
      "cell_type": "markdown",
      "metadata": {
        "id": "view-in-github",
        "colab_type": "text"
      },
      "source": [
        "<a href=\"https://colab.research.google.com/github/pam-lab/JupyterFiles/blob/main/Similarity_BERT.ipynb\" target=\"_parent\"><img src=\"https://colab.research.google.com/assets/colab-badge.svg\" alt=\"Open In Colab\"/></a>"
      ]
    },
    {
      "cell_type": "markdown",
      "source": [
        "# Data Loading and processing"
      ],
      "metadata": {
        "id": "O67Vn__gWwG8"
      }
    },
    {
      "cell_type": "code",
      "execution_count": 1,
      "metadata": {
        "colab": {
          "base_uri": "https://localhost:8080/"
        },
        "id": "ZiTZi38tNA-R",
        "outputId": "706f27e3-c012-431f-e6d0-df9733bc6bd2"
      },
      "outputs": [
        {
          "output_type": "stream",
          "name": "stdout",
          "text": [
            "Cloning into 'course-nlp-ir-1-text-exploring'...\n",
            "remote: Enumerating objects: 401, done.\u001b[K\n",
            "remote: Counting objects: 100% (4/4), done.\u001b[K\n",
            "remote: Compressing objects: 100% (4/4), done.\u001b[K\n",
            "remote: Total 401 (delta 2), reused 0 (delta 0), pack-reused 397\u001b[K\n",
            "Receiving objects: 100% (401/401), 98.78 MiB | 21.43 MiB/s, done.\n",
            "Resolving deltas: 100% (197/197), done.\n",
            "Checking out files: 100% (245/245), done.\n"
          ]
        }
      ],
      "source": [
        "!git clone https://github.com/language-ml/course-nlp-ir-1-text-exploring"
      ]
    },
    {
      "cell_type": "code",
      "source": [
        "import random \n",
        "import nltk\n",
        "import pandas as pd\n",
        "import codecs\n",
        "import tqdm\n",
        "\n",
        "quranic_dir = \"/content/course-nlp-ir-1-text-exploring/exploring-datasets/religious_text\"\n",
        "df_quran = pd.read_csv(f'{quranic_dir}/quranic_data/id_text_with_orthographies.txt', sep='\\t', header=None)\n",
        "df_nahj = pd.read_csv(f'{quranic_dir}/nahj-al-balaqa/Nahj Al-Balaqa.txt', sep='\\t',header=None)\n",
        "verse_complete_dict = pd.Series(df_quran[1].tolist(), index=df_quran[0]).to_dict()\n",
        "nahj_complete_dict = pd.Series(df_nahj[1].tolist(), index=df_nahj[0]).to_dict()"
      ],
      "metadata": {
        "id": "qqOLyjhGS3cx"
      },
      "execution_count": 13,
      "outputs": []
    },
    {
      "cell_type": "code",
      "source": [
        "from pathlib import Path\n",
        "import re\n",
        "sahife_text=Path(f'{quranic_dir}/Saheefa/sahife_sajjadieh.txt').read_text().split('\\n')\n",
        "sahife_complete_dict = [re.sub('[(][۰-۹]+[)]','', item) for item in sahife_text if item.startswith('(')]"
      ],
      "metadata": {
        "id": "XQ5yonDq5RmL"
      },
      "execution_count": null,
      "outputs": []
    },
    {
      "cell_type": "code",
      "source": [
        "sahife_complete_dict[12]"
      ],
      "metadata": {
        "colab": {
          "base_uri": "https://localhost:8080/",
          "height": 36
        },
        "id": "zYmWmMuZ6NKq",
        "outputId": "86e0a32e-57a7-4d2d-b051-edcbcc1fca37"
      },
      "execution_count": 35,
      "outputs": [
        {
          "output_type": "execute_result",
          "data": {
            "text/plain": [
              "' حَمْداً یَرْتَفِعُ مِنَّا إِلَی أَعْلَی عِلِّیِّینَ فِي کِتَابٍ مَرْقُومٍ یَشْهَدُه\\u200cُ الْمُقَرَّبُونَ. '"
            ],
            "application/vnd.google.colaboratory.intrinsic+json": {
              "type": "string"
            }
          },
          "metadata": {},
          "execution_count": 35
        }
      ]
    },
    {
      "cell_type": "code",
      "source": [
        "nahj_complete_dict['2##186']"
      ],
      "metadata": {
        "colab": {
          "base_uri": "https://localhost:8080/",
          "height": 36
        },
        "id": "cCiaD8k30_CF",
        "outputId": "10647b39-1b60-4f8d-eb4b-a249569617ac"
      },
      "execution_count": 32,
      "outputs": [
        {
          "output_type": "execute_result",
          "data": {
            "text/plain": [
              "'وَ قَالَ ع لِلظّالِمِ الباَدیِ غَداً بِکَفّهِ عَضّةٌ'"
            ],
            "application/vnd.google.colaboratory.intrinsic+json": {
              "type": "string"
            }
          },
          "metadata": {},
          "execution_count": 32
        }
      ]
    },
    {
      "cell_type": "code",
      "source": [
        "verse_complete_dict['2##186']"
      ],
      "metadata": {
        "colab": {
          "base_uri": "https://localhost:8080/",
          "height": 36
        },
        "id": "hG44UkxzTSj_",
        "outputId": "b78d4eba-f77a-4686-8d22-812e5b1b7924"
      },
      "execution_count": 3,
      "outputs": [
        {
          "output_type": "execute_result",
          "data": {
            "text/plain": [
              "'وَإِذَا سَأَلَكَ عِبَادِي عَنِّي فَإِنِّي قَرِيبٌ ۖ أُجِيبُ دَعْوَةَ الدَّاعِ إِذَا دَعَانِ ۖ فَلْيَسْتَجِيبُوا لِي وَلْيُؤْمِنُوا بِي لَعَلَّهُمْ يَرْشُدُونَ'"
            ],
            "application/vnd.google.colaboratory.intrinsic+json": {
              "type": "string"
            }
          },
          "metadata": {},
          "execution_count": 3
        }
      ]
    },
    {
      "cell_type": "markdown",
      "source": [
        "### Normalize"
      ],
      "metadata": {
        "id": "x0Qok8hCW-MM"
      }
    },
    {
      "cell_type": "code",
      "source": [
        "pip install -Uq camel_tools"
      ],
      "metadata": {
        "id": "dWoFs-Z7VNhh",
        "colab": {
          "base_uri": "https://localhost:8080/"
        },
        "outputId": "4280a3ef-ca37-4d03-b7b3-3982e05f089f"
      },
      "execution_count": 4,
      "outputs": [
        {
          "output_type": "stream",
          "name": "stdout",
          "text": [
            "\u001b[?25l\r\u001b[K     |███▏                            | 10 kB 13.5 MB/s eta 0:00:01\r\u001b[K     |██████▎                         | 20 kB 14.6 MB/s eta 0:00:01\r\u001b[K     |█████████▍                      | 30 kB 11.8 MB/s eta 0:00:01\r\u001b[K     |████████████▌                   | 40 kB 10.3 MB/s eta 0:00:01\r\u001b[K     |███████████████▋                | 51 kB 5.1 MB/s eta 0:00:01\r\u001b[K     |██████████████████▉             | 61 kB 6.0 MB/s eta 0:00:01\r\u001b[K     |██████████████████████          | 71 kB 5.5 MB/s eta 0:00:01\r\u001b[K     |█████████████████████████       | 81 kB 4.5 MB/s eta 0:00:01\r\u001b[K     |████████████████████████████▏   | 92 kB 5.0 MB/s eta 0:00:01\r\u001b[K     |███████████████████████████████▎| 102 kB 5.5 MB/s eta 0:00:01\r\u001b[K     |████████████████████████████████| 104 kB 5.5 MB/s \n",
            "\u001b[K     |████████████████████████████████| 418 kB 40.1 MB/s \n",
            "\u001b[K     |████████████████████████████████| 4.2 MB 48.3 MB/s \n",
            "\u001b[K     |████████████████████████████████| 175 kB 44.8 MB/s \n",
            "\u001b[K     |████████████████████████████████| 6.6 MB 36.5 MB/s \n",
            "\u001b[K     |████████████████████████████████| 596 kB 47.9 MB/s \n",
            "\u001b[K     |████████████████████████████████| 86 kB 4.4 MB/s \n",
            "\u001b[?25h  Building wheel for camel-kenlm (setup.py) ... \u001b[?25l\u001b[?25hdone\n",
            "  Building wheel for emoji (setup.py) ... \u001b[?25l\u001b[?25hdone\n"
          ]
        }
      ]
    },
    {
      "cell_type": "code",
      "source": [
        "from camel_tools.utils.normalize import normalize_unicode\n",
        "from camel_tools.utils.normalize import normalize_alef_maksura_ar\n",
        "from camel_tools.utils.normalize import normalize_alef_ar\n",
        "\n",
        "from camel_tools.utils.normalize import normalize_alef_bw\n",
        "from camel_tools.utils.normalize import normalize_alef_hsb\n",
        "\n",
        "from camel_tools.utils.normalize import normalize_teh_marbuta_ar\n",
        "from camel_tools.utils.dediac import dediac_ar\n",
        "\n",
        "def normalize_arabic(sentence):\n",
        "\n",
        "    # Normalize alef variants to 'ا'\n",
        "    sent_norm = normalize_unicode(sentence)\n",
        "    \n",
        "    sent_norm = normalize_alef_bw(sent_norm)\n",
        "    # Normalize alef variants to 'ا'\n",
        "    sent_norm = normalize_alef_ar(sentence)\n",
        "\n",
        "    # Normalize alef maksura 'ى' to yeh 'ي'\n",
        "    sent_norm = normalize_alef_maksura_ar(sent_norm)\n",
        "\n",
        "    # Normalize teh marbuta 'ة' to heh 'ه'\n",
        "    sent_norm = normalize_teh_marbuta_ar(sent_norm)\n",
        "    return dediac_ar(sent_norm)"
      ],
      "metadata": {
        "id": "SBZgSk_qVfPf"
      },
      "execution_count": 5,
      "outputs": []
    },
    {
      "cell_type": "code",
      "source": [
        "from camel_tools.utils import normalize\n",
        "\n",
        "\n",
        "verse_complete_dict_nrmlz = {k:normalize_arabic(v) for k,v in tqdm.tqdm(verse_complete_dict.items())}\n",
        "nahj_complete_dict_nrmlz = {k:normalize_arabic(v) for k,v in tqdm.tqdm(nahj_complete_dict.items())}\n",
        "sahife_complete_dict_nrmlz = [normalize_arabic(item) for item in tqdm.tqdm(sahife_complete_dict)]"
      ],
      "metadata": {
        "colab": {
          "base_uri": "https://localhost:8080/"
        },
        "id": "PgTbrIJQV6Do",
        "outputId": "360d44f5-4b9f-4cce-fcf1-ccde1fa72b8f"
      },
      "execution_count": 40,
      "outputs": [
        {
          "output_type": "stream",
          "name": "stderr",
          "text": [
            "\n",
            "  0%|          | 0/6236 [00:00<?, ?it/s]\u001b[A\n",
            "  4%|▎         | 230/6236 [00:00<00:02, 2296.35it/s]\u001b[A\n",
            "  9%|▉         | 587/6236 [00:00<00:01, 3040.59it/s]\u001b[A\n",
            " 17%|█▋        | 1044/6236 [00:00<00:01, 3737.09it/s]\u001b[A\n",
            " 24%|██▍       | 1485/6236 [00:00<00:01, 3972.59it/s]\u001b[A\n",
            " 31%|███       | 1939/6236 [00:00<00:01, 4175.28it/s]\u001b[A\n",
            " 41%|████      | 2532/6236 [00:00<00:00, 4768.80it/s]\u001b[A\n",
            " 50%|█████     | 3148/6236 [00:00<00:00, 5221.80it/s]\u001b[A\n",
            " 60%|█████▉    | 3736/6236 [00:00<00:00, 5430.01it/s]\u001b[A\n",
            " 70%|██████▉   | 4335/6236 [00:00<00:00, 5603.90it/s]\u001b[A\n",
            " 82%|████████▏ | 5105/6236 [00:01<00:00, 6248.22it/s]\u001b[A\n",
            "100%|██████████| 6236/6236 [00:01<00:00, 5516.89it/s]\n",
            "\n",
            "  0%|          | 0/800 [00:00<?, ?it/s]\u001b[A\n",
            " 12%|█▏        | 95/800 [00:00<00:00, 947.86it/s]\u001b[A\n",
            " 24%|██▍       | 190/800 [00:00<00:00, 725.87it/s]\u001b[A\n",
            " 33%|███▎      | 266/800 [00:00<00:00, 727.46it/s]\u001b[A\n",
            "100%|██████████| 800/800 [00:00<00:00, 1435.56it/s]\n",
            "\n",
            "  0%|          | 0/924 [00:00<?, ?it/s]\u001b[A\n",
            " 41%|████      | 381/924 [00:00<00:00, 3725.82it/s]\u001b[A\n",
            "100%|██████████| 924/924 [00:00<00:00, 3028.63it/s]\n"
          ]
        }
      ]
    },
    {
      "cell_type": "code",
      "source": [
        "print(verse_complete_dict['2##186'])\n",
        "print(verse_complete_dict_nrmlz['2##186'])\n",
        "\n",
        "print(nahj_complete_dict['2##186'])\n",
        "print(nahj_complete_dict_nrmlz['2##186'])\n",
        "\n",
        "print(sahife_complete_dict[34])\n",
        "print(sahife_complete_dict_nrmlz[34])"
      ],
      "metadata": {
        "colab": {
          "base_uri": "https://localhost:8080/"
        },
        "id": "VhfSxrvmWDYr",
        "outputId": "4a85c874-6940-4841-abe7-6b21c345742a"
      },
      "execution_count": 42,
      "outputs": [
        {
          "output_type": "stream",
          "name": "stdout",
          "text": [
            "وَإِذَا سَأَلَكَ عِبَادِي عَنِّي فَإِنِّي قَرِيبٌ ۖ أُجِيبُ دَعْوَةَ الدَّاعِ إِذَا دَعَانِ ۖ فَلْيَسْتَجِيبُوا لِي وَلْيُؤْمِنُوا بِي لَعَلَّهُمْ يَرْشُدُونَ\n",
            "واذا سالك عبادي عني فاني قريب ۖ اجيب دعوه الداع اذا دعان ۖ فليستجيبوا لي وليؤمنوا بي لعلهم يرشدون\n",
            "وَ قَالَ ع لِلظّالِمِ الباَدیِ غَداً بِکَفّهِ عَضّةٌ\n",
            "و قال ع للظالم البادی غدا بکفه عضه\n",
            " وَ کَاشَفَ فِي الدُّعَاءِ إِلَیْکَ حَامَّتَه‌ُ \n",
            " و کاشف في الدعاء الیک حامته‌ \n"
          ]
        }
      ]
    },
    {
      "cell_type": "code",
      "source": [
        "quranic_tokenized = [sents.split() for sents in tqdm.tqdm(verse_complete_dict_nrmlz.values())]\n",
        "nahj_tokenized = [sents.split() for sents in tqdm.tqdm(nahj_complete_dict_nrmlz.values())]\n",
        "sahife_tokenized = [sents.split() for sents in tqdm.tqdm(sahife_complete_dict_nrmlz)]"
      ],
      "metadata": {
        "colab": {
          "base_uri": "https://localhost:8080/"
        },
        "id": "MPLCLAWyWvJ7",
        "outputId": "c39e7863-10a6-443e-c50c-6978fe2bbde2"
      },
      "execution_count": 43,
      "outputs": [
        {
          "output_type": "stream",
          "name": "stderr",
          "text": [
            "\n",
            "100%|██████████| 6236/6236 [00:00<00:00, 196065.15it/s]\n",
            "\n",
            "100%|██████████| 800/800 [00:00<00:00, 21750.88it/s]\n",
            "\n",
            "100%|██████████| 924/924 [00:00<00:00, 90859.87it/s]\n"
          ]
        }
      ]
    },
    {
      "cell_type": "code",
      "source": [
        "quranic_tokenized[43]"
      ],
      "metadata": {
        "colab": {
          "base_uri": "https://localhost:8080/"
        },
        "id": "VzDxGwAeWO0f",
        "outputId": "d7670845-1d0e-4ebb-d686-da3542b56288"
      },
      "execution_count": 10,
      "outputs": [
        {
          "output_type": "execute_result",
          "data": {
            "text/plain": [
              "['فتلقي',\n",
              " 'ادم',\n",
              " 'من',\n",
              " 'ربه',\n",
              " 'كلمات',\n",
              " 'فتاب',\n",
              " 'عليه',\n",
              " 'ۚ',\n",
              " 'انه',\n",
              " 'هو',\n",
              " 'التواب',\n",
              " 'الرحيم']"
            ]
          },
          "metadata": {},
          "execution_count": 10
        }
      ]
    },
    {
      "cell_type": "code",
      "source": [
        "nahj_tokenized[43]"
      ],
      "metadata": {
        "id": "FAjmjfiKXmAm",
        "colab": {
          "base_uri": "https://localhost:8080/"
        },
        "outputId": "e96ccfd9-4d08-4e86-f003-1b56208497fc"
      },
      "execution_count": 22,
      "outputs": [
        {
          "output_type": "execute_result",
          "data": {
            "text/plain": [
              "['قبح',\n",
              " 'الله',\n",
              " 'مصقله',\n",
              " 'فعل',\n",
              " 'فعل',\n",
              " 'الساده',\n",
              " 'و',\n",
              " 'فر',\n",
              " 'فرار',\n",
              " 'العبید',\n",
              " 'فما',\n",
              " 'انطق',\n",
              " 'مادحه',\n",
              " 'حتی',\n",
              " 'اسکته',\n",
              " 'و',\n",
              " 'لا',\n",
              " 'صدق',\n",
              " 'واصفه',\n",
              " 'حتی',\n",
              " 'بکته',\n",
              " 'و',\n",
              " 'لو',\n",
              " 'اقام',\n",
              " 'لاخذنا',\n",
              " 'میسوره',\n",
              " 'و',\n",
              " 'انتظرنا',\n",
              " 'بماله',\n",
              " 'وفوره']"
            ]
          },
          "metadata": {},
          "execution_count": 22
        }
      ]
    },
    {
      "cell_type": "code",
      "source": [
        "sahife_tokenized[34]"
      ],
      "metadata": {
        "colab": {
          "base_uri": "https://localhost:8080/"
        },
        "id": "UndqYn-Y4L8G",
        "outputId": "029daefe-4fef-49d3-ec8c-90229d7e2976"
      },
      "execution_count": 44,
      "outputs": [
        {
          "output_type": "execute_result",
          "data": {
            "text/plain": [
              "['و', 'کاشف', 'في', 'الدعاء', 'الیک', 'حامته\\u200c']"
            ]
          },
          "metadata": {},
          "execution_count": 44
        }
      ]
    },
    {
      "cell_type": "code",
      "source": [
        ""
      ],
      "metadata": {
        "id": "sm5hDzwI8IKi"
      },
      "execution_count": null,
      "outputs": []
    }
  ]
}