{
  "nbformat": 4,
  "nbformat_minor": 0,
  "metadata": {
    "colab": {
      "name": "Similarity_TF_IDF.ipynb",
      "provenance": [],
      "collapsed_sections": [],
      "include_colab_link": true
    },
    "kernelspec": {
      "name": "python3",
      "display_name": "Python 3"
    },
    "language_info": {
      "name": "python"
    }
  },
  "cells": [
    {
      "cell_type": "markdown",
      "metadata": {
        "id": "view-in-github",
        "colab_type": "text"
      },
      "source": [
        "<a href=\"https://colab.research.google.com/github/pam-lab/JupyterFiles/blob/main/Similarity_TF_IDF.ipynb\" target=\"_parent\"><img src=\"https://colab.research.google.com/assets/colab-badge.svg\" alt=\"Open In Colab\"/></a>"
      ]
    },
    {
      "cell_type": "markdown",
      "source": [
        "# Data Loading and processing"
      ],
      "metadata": {
        "id": "O67Vn__gWwG8"
      }
    },
    {
      "cell_type": "code",
      "execution_count": null,
      "metadata": {
        "colab": {
          "base_uri": "https://localhost:8080/"
        },
        "id": "ZiTZi38tNA-R",
        "outputId": "754a7f9a-4cf7-415b-de72-e36463d1392f"
      },
      "outputs": [
        {
          "output_type": "stream",
          "name": "stdout",
          "text": [
            "Cloning into 'course-nlp-ir-1-text-exploring'...\n",
            "remote: Enumerating objects: 401, done.\u001b[K\n",
            "remote: Counting objects: 100% (4/4), done.\u001b[K\n",
            "remote: Compressing objects: 100% (4/4), done.\u001b[K\n",
            "remote: Total 401 (delta 2), reused 0 (delta 0), pack-reused 397\u001b[K\n",
            "Receiving objects: 100% (401/401), 98.78 MiB | 14.03 MiB/s, done.\n",
            "Resolving deltas: 100% (197/197), done.\n",
            "Checking out files: 100% (245/245), done.\n"
          ]
        }
      ],
      "source": [
        "!git clone https://github.com/language-ml/course-nlp-ir-1-text-exploring"
      ]
    },
    {
      "cell_type": "code",
      "source": [
        "!pip install -Uq camel_tools\n",
        "import random \n",
        "import nltk\n",
        "import pandas as pd\n",
        "import codecs\n",
        "import tqdm\n",
        "import random \n",
        "import nltk\n",
        "from pathlib import Path\n",
        "import re\n",
        "from camel_tools.utils.normalize import normalize_unicode\n",
        "from camel_tools.utils.normalize import normalize_alef_maksura_ar\n",
        "from camel_tools.utils.normalize import normalize_alef_ar\n",
        "from camel_tools.utils.normalize import normalize_alef_bw\n",
        "from camel_tools.utils.normalize import normalize_alef_hsb\n",
        "from camel_tools.utils.normalize import normalize_teh_marbuta_ar\n",
        "from camel_tools.utils.dediac import dediac_ar\n",
        "from camel_tools.utils import normalize\n",
        "import _pickle as pickle\n",
        "from sklearn.feature_extraction.text import TfidfVectorizer\n",
        "from sklearn.metrics.pairwise import linear_kernel\n",
        "\n",
        "quranic_dir = \"/content/course-nlp-ir-1-text-exploring/exploring-datasets/religious_text\"\n",
        "df_quran = pd.read_csv(f'{quranic_dir}/quranic_data/id_text_with_orthographies.txt', sep='\\t', header=None)\n",
        "df_nahj = pd.read_csv(f'{quranic_dir}/nahj-al-balaqa/Nahj Al-Balaqa.txt', sep='\\t',header=None)\n",
        "verse_complete_dict = pd.Series(df_quran[1].tolist(), index=df_quran[0]).to_dict()\n",
        "nahj_complete_dict = pd.Series(df_nahj[1].tolist(), index=df_nahj[0]).to_dict()"
      ],
      "metadata": {
        "id": "qqOLyjhGS3cx",
        "colab": {
          "base_uri": "https://localhost:8080/"
        },
        "outputId": "d5ca5df4-27ed-483d-cc1a-fcf0a3c19328"
      },
      "execution_count": null,
      "outputs": [
        {
          "output_type": "stream",
          "name": "stdout",
          "text": [
            "\u001b[K     |████████████████████████████████| 114 kB 7.7 MB/s \n",
            "\u001b[K     |████████████████████████████████| 418 kB 45.9 MB/s \n",
            "\u001b[K     |████████████████████████████████| 4.2 MB 44.7 MB/s \n",
            "\u001b[K     |████████████████████████████████| 175 kB 60.1 MB/s \n",
            "\u001b[K     |████████████████████████████████| 86 kB 4.3 MB/s \n",
            "\u001b[K     |████████████████████████████████| 596 kB 44.0 MB/s \n",
            "\u001b[K     |████████████████████████████████| 6.6 MB 10.0 MB/s \n",
            "\u001b[?25h  Building wheel for camel-kenlm (setup.py) ... \u001b[?25l\u001b[?25hdone\n",
            "  Building wheel for emoji (setup.py) ... \u001b[?25l\u001b[?25hdone\n"
          ]
        }
      ]
    },
    {
      "cell_type": "code",
      "source": [
        "sahife_text=Path(f'{quranic_dir}/Saheefa/sahife_sajjadieh.txt').read_text().split('\\n')\n",
        "sahife_complete_dict = [re.sub('[(][۰-۹]+[)]','', item) for item in sahife_text if item.startswith('(')]"
      ],
      "metadata": {
        "id": "XQ5yonDq5RmL"
      },
      "execution_count": null,
      "outputs": []
    },
    {
      "cell_type": "code",
      "source": [
        "sahife_complete_dict[12]"
      ],
      "metadata": {
        "colab": {
          "base_uri": "https://localhost:8080/",
          "height": 36
        },
        "id": "zYmWmMuZ6NKq",
        "outputId": "fa695f3a-18ec-4dd8-998d-208d57cff797"
      },
      "execution_count": null,
      "outputs": [
        {
          "output_type": "execute_result",
          "data": {
            "text/plain": [
              "' حَمْداً یَرْتَفِعُ مِنَّا إِلَی أَعْلَی عِلِّیِّینَ فِي کِتَابٍ مَرْقُومٍ یَشْهَدُه\\u200cُ الْمُقَرَّبُونَ. '"
            ],
            "application/vnd.google.colaboratory.intrinsic+json": {
              "type": "string"
            }
          },
          "metadata": {},
          "execution_count": 7
        }
      ]
    },
    {
      "cell_type": "code",
      "source": [
        "nahj_complete_dict['2##186']"
      ],
      "metadata": {
        "colab": {
          "base_uri": "https://localhost:8080/",
          "height": 36
        },
        "id": "cCiaD8k30_CF",
        "outputId": "0e9ac758-083c-4195-f777-f132b679d8c5"
      },
      "execution_count": null,
      "outputs": [
        {
          "output_type": "execute_result",
          "data": {
            "text/plain": [
              "'وَ قَالَ ع لِلظّالِمِ الباَدیِ غَداً بِکَفّهِ عَضّةٌ'"
            ],
            "application/vnd.google.colaboratory.intrinsic+json": {
              "type": "string"
            }
          },
          "metadata": {},
          "execution_count": 8
        }
      ]
    },
    {
      "cell_type": "code",
      "source": [
        "verse_complete_dict['2##186']"
      ],
      "metadata": {
        "colab": {
          "base_uri": "https://localhost:8080/",
          "height": 36
        },
        "id": "hG44UkxzTSj_",
        "outputId": "8e80e174-c730-4e54-f504-a81cc0d4d998"
      },
      "execution_count": null,
      "outputs": [
        {
          "output_type": "execute_result",
          "data": {
            "text/plain": [
              "'وَإِذَا سَأَلَكَ عِبَادِي عَنِّي فَإِنِّي قَرِيبٌ ۖ أُجِيبُ دَعْوَةَ الدَّاعِ إِذَا دَعَانِ ۖ فَلْيَسْتَجِيبُوا لِي وَلْيُؤْمِنُوا بِي لَعَلَّهُمْ يَرْشُدُونَ'"
            ],
            "application/vnd.google.colaboratory.intrinsic+json": {
              "type": "string"
            }
          },
          "metadata": {},
          "execution_count": 9
        }
      ]
    },
    {
      "cell_type": "markdown",
      "source": [
        "### Normalize"
      ],
      "metadata": {
        "id": "x0Qok8hCW-MM"
      }
    },
    {
      "cell_type": "code",
      "source": [
        "def normalize_arabic(sentence):\n",
        "\n",
        "    # Normalize alef variants to 'ا'\n",
        "    sent_norm = normalize_unicode(sentence)\n",
        "    \n",
        "    sent_norm = normalize_alef_bw(sent_norm)\n",
        "    # Normalize alef variants to 'ا'\n",
        "    sent_norm = normalize_alef_ar(sentence)\n",
        "\n",
        "    # Normalize alef maksura 'ى' to yeh 'ي'\n",
        "    sent_norm = normalize_alef_maksura_ar(sent_norm)\n",
        "\n",
        "    # Normalize teh marbuta 'ة' to heh 'ه'\n",
        "    sent_norm = normalize_teh_marbuta_ar(sent_norm)\n",
        "    return dediac_ar(sent_norm)"
      ],
      "metadata": {
        "id": "SBZgSk_qVfPf"
      },
      "execution_count": null,
      "outputs": []
    },
    {
      "cell_type": "code",
      "source": [
        "verse_complete_dict_nrmlz = {k:normalize_arabic(v) for k,v in tqdm.tqdm(verse_complete_dict.items())}\n",
        "nahj_complete_dict_nrmlz = {k:normalize_arabic(v) for k,v in tqdm.tqdm(nahj_complete_dict.items())}\n",
        "sahife_complete_dict_nrmlz = [normalize_arabic(item) for item in tqdm.tqdm(sahife_complete_dict)]"
      ],
      "metadata": {
        "colab": {
          "base_uri": "https://localhost:8080/"
        },
        "id": "PgTbrIJQV6Do",
        "outputId": "3fbb30cb-7b06-47eb-ad89-0ba13bf6d015"
      },
      "execution_count": null,
      "outputs": [
        {
          "output_type": "stream",
          "name": "stderr",
          "text": [
            "100%|██████████| 6236/6236 [00:00<00:00, 8687.19it/s] \n",
            "100%|██████████| 800/800 [00:00<00:00, 3191.01it/s]\n",
            "100%|██████████| 924/924 [00:00<00:00, 6900.26it/s]\n"
          ]
        }
      ]
    },
    {
      "cell_type": "code",
      "source": [
        "print(verse_complete_dict['2##186'])\n",
        "print(verse_complete_dict_nrmlz['2##186'])\n",
        "\n",
        "print(nahj_complete_dict['2##186'])\n",
        "print(nahj_complete_dict_nrmlz['2##186'])\n",
        "\n",
        "print(sahife_complete_dict[34])\n",
        "print(sahife_complete_dict_nrmlz[34])"
      ],
      "metadata": {
        "colab": {
          "base_uri": "https://localhost:8080/"
        },
        "id": "VhfSxrvmWDYr",
        "outputId": "be3db457-6273-4f08-f29b-2d5db1e5a370"
      },
      "execution_count": null,
      "outputs": [
        {
          "output_type": "stream",
          "name": "stdout",
          "text": [
            "وَإِذَا سَأَلَكَ عِبَادِي عَنِّي فَإِنِّي قَرِيبٌ ۖ أُجِيبُ دَعْوَةَ الدَّاعِ إِذَا دَعَانِ ۖ فَلْيَسْتَجِيبُوا لِي وَلْيُؤْمِنُوا بِي لَعَلَّهُمْ يَرْشُدُونَ\n",
            "واذا سالك عبادي عني فاني قريب ۖ اجيب دعوه الداع اذا دعان ۖ فليستجيبوا لي وليؤمنوا بي لعلهم يرشدون\n",
            "وَ قَالَ ع لِلظّالِمِ الباَدیِ غَداً بِکَفّهِ عَضّةٌ\n",
            "و قال ع للظالم البادی غدا بکفه عضه\n",
            " وَ کَاشَفَ فِي الدُّعَاءِ إِلَیْکَ حَامَّتَه‌ُ \n",
            " و کاشف في الدعاء الیک حامته‌ \n"
          ]
        }
      ]
    },
    {
      "cell_type": "code",
      "source": [
        "quranic_tokenized = [sents.split() for sents in tqdm.tqdm(verse_complete_dict_nrmlz.values())]\n",
        "nahj_tokenized = [sents.split() for sents in tqdm.tqdm(nahj_complete_dict_nrmlz.values())]\n",
        "sahife_tokenized = [sents.split() for sents in tqdm.tqdm(sahife_complete_dict_nrmlz)]"
      ],
      "metadata": {
        "colab": {
          "base_uri": "https://localhost:8080/"
        },
        "id": "MPLCLAWyWvJ7",
        "outputId": "fe7de930-57d5-4b9a-c380-70cd24b8eaa7"
      },
      "execution_count": null,
      "outputs": [
        {
          "output_type": "stream",
          "name": "stderr",
          "text": [
            "100%|██████████| 6236/6236 [00:00<00:00, 224444.84it/s]\n",
            "100%|██████████| 800/800 [00:00<00:00, 42437.44it/s]\n",
            "100%|██████████| 924/924 [00:00<00:00, 142829.55it/s]\n"
          ]
        }
      ]
    },
    {
      "cell_type": "code",
      "source": [
        "quranic_tokenized[43]"
      ],
      "metadata": {
        "colab": {
          "base_uri": "https://localhost:8080/"
        },
        "id": "VzDxGwAeWO0f",
        "outputId": "b9a1d711-424e-488b-a010-a19dbe46319e"
      },
      "execution_count": null,
      "outputs": [
        {
          "output_type": "execute_result",
          "data": {
            "text/plain": [
              "['فتلقي',\n",
              " 'ادم',\n",
              " 'من',\n",
              " 'ربه',\n",
              " 'كلمات',\n",
              " 'فتاب',\n",
              " 'عليه',\n",
              " 'ۚ',\n",
              " 'انه',\n",
              " 'هو',\n",
              " 'التواب',\n",
              " 'الرحيم']"
            ]
          },
          "metadata": {},
          "execution_count": 14
        }
      ]
    },
    {
      "cell_type": "code",
      "source": [
        "nahj_tokenized[43]"
      ],
      "metadata": {
        "id": "FAjmjfiKXmAm",
        "colab": {
          "base_uri": "https://localhost:8080/"
        },
        "outputId": "89cc45a1-ec16-454e-f5c6-41caf85b6764"
      },
      "execution_count": null,
      "outputs": [
        {
          "output_type": "execute_result",
          "data": {
            "text/plain": [
              "['قبح',\n",
              " 'الله',\n",
              " 'مصقله',\n",
              " 'فعل',\n",
              " 'فعل',\n",
              " 'الساده',\n",
              " 'و',\n",
              " 'فر',\n",
              " 'فرار',\n",
              " 'العبید',\n",
              " 'فما',\n",
              " 'انطق',\n",
              " 'مادحه',\n",
              " 'حتی',\n",
              " 'اسکته',\n",
              " 'و',\n",
              " 'لا',\n",
              " 'صدق',\n",
              " 'واصفه',\n",
              " 'حتی',\n",
              " 'بکته',\n",
              " 'و',\n",
              " 'لو',\n",
              " 'اقام',\n",
              " 'لاخذنا',\n",
              " 'میسوره',\n",
              " 'و',\n",
              " 'انتظرنا',\n",
              " 'بماله',\n",
              " 'وفوره']"
            ]
          },
          "metadata": {},
          "execution_count": 15
        }
      ]
    },
    {
      "cell_type": "code",
      "source": [
        "sahife_tokenized[34]"
      ],
      "metadata": {
        "colab": {
          "base_uri": "https://localhost:8080/"
        },
        "id": "UndqYn-Y4L8G",
        "outputId": "9e7ccd82-b35a-433c-b104-13685279446c"
      },
      "execution_count": null,
      "outputs": [
        {
          "output_type": "execute_result",
          "data": {
            "text/plain": [
              "['و', 'کاشف', 'في', 'الدعاء', 'الیک', 'حامته\\u200c']"
            ]
          },
          "metadata": {},
          "execution_count": 16
        }
      ]
    },
    {
      "cell_type": "markdown",
      "source": [
        "# Part 1 (IF-IDF)"
      ],
      "metadata": {
        "id": "SoVjAddjSisF"
      }
    },
    {
      "cell_type": "code",
      "source": [
        "verse_dict_nrmlz = {k:normalize_arabic(v) for k,v in tqdm.tqdm(verse_complete_dict.items())}\n",
        "nahj_dict_nrmlz = {k:normalize_arabic(v) for k,v in tqdm.tqdm(nahj_complete_dict.items())}\n",
        "sahife_dict_nrmlz = {normalize_arabic(v) for v in tqdm.tqdm(sahife_complete_dict)}"
      ],
      "metadata": {
        "colab": {
          "base_uri": "https://localhost:8080/"
        },
        "id": "leyVC9A6X4Ro",
        "outputId": "203a7af0-b683-4f55-aab4-631c93bf80df"
      },
      "execution_count": null,
      "outputs": [
        {
          "output_type": "stream",
          "name": "stderr",
          "text": [
            "\n",
            "  0%|          | 0/6236 [00:00<?, ?it/s]\u001b[A\n",
            " 15%|█▌        | 938/6236 [00:00<00:00, 9376.10it/s]\u001b[A\n",
            " 32%|███▏      | 2012/6236 [00:00<00:00, 10174.41it/s]\u001b[A\n",
            " 54%|█████▎    | 3346/6236 [00:00<00:00, 11617.73it/s]\u001b[A\n",
            "100%|██████████| 6236/6236 [00:00<00:00, 13148.05it/s]\n",
            "\n",
            "  0%|          | 0/800 [00:00<?, ?it/s]\u001b[A\n",
            " 22%|██▏       | 172/800 [00:00<00:00, 1714.32it/s]\u001b[A\n",
            "100%|██████████| 800/800 [00:00<00:00, 2781.20it/s]\n",
            "\n",
            "  0%|          | 0/924 [00:00<?, ?it/s]\u001b[A\n",
            "100%|██████████| 924/924 [00:00<00:00, 5901.93it/s]\n"
          ]
        }
      ]
    },
    {
      "cell_type": "code",
      "source": [
        "df_verse_complete_dict = pd.DataFrame(list(verse_complete_dict.items()), columns = ['num','verse'])\n",
        "df_verse_complete_dict_nrmlz = pd.DataFrame(list(verse_dict_nrmlz.items()), columns = ['num','verse'])\n",
        "df_nahj_complete_dict = pd.DataFrame(list(nahj_complete_dict.items()), columns = ['num','verse'])\n",
        "df_nahj_complete_dict_nrmlz = pd.DataFrame(list(nahj_dict_nrmlz.items()), columns = ['num','verse'])\n",
        "df_sahife_complete_dict = pd.DataFrame(list(sahife_complete_dict), columns = ['verse'])\n",
        "df_sahife_complete_dict_nrmlz = pd.DataFrame(list(sahife_dict_nrmlz), columns= ['verse'])"
      ],
      "metadata": {
        "id": "iC2P8TkihVKn"
      },
      "execution_count": null,
      "outputs": []
    },
    {
      "cell_type": "code",
      "source": [
        "# Create TfidfVectorizer object\n",
        "vectorizer_quran = TfidfVectorizer(lowercase = False)\n",
        "vectorizer_nahj = TfidfVectorizer(lowercase = False)\n",
        "vectorizer_sahife = TfidfVectorizer(lowercase = False)\n",
        "vectorizer_quran_char = TfidfVectorizer(lowercase = False,analyzer='char')\n",
        "vectorizer_nahj_char = TfidfVectorizer(lowercase = False,analyzer='char')\n",
        "vectorizer_sahife_char = TfidfVectorizer(lowercase = False,analyzer='char')"
      ],
      "metadata": {
        "id": "9Tkoxsm8c18U"
      },
      "execution_count": null,
      "outputs": []
    },
    {
      "cell_type": "code",
      "source": [
        "# Generate matrix of word vectors\n",
        "tfidf_matrix_quran = vectorizer_quran.fit_transform(df_verse_complete_dict_nrmlz['verse'])\n",
        "# Print the shape of tfidf_matrix\n",
        "print(tfidf_matrix_quran.shape)"
      ],
      "metadata": {
        "colab": {
          "base_uri": "https://localhost:8080/"
        },
        "id": "lWGUITFRyCVa",
        "outputId": "0214402c-92a6-46d1-83d7-649cf3c175aa"
      },
      "execution_count": null,
      "outputs": [
        {
          "output_type": "stream",
          "name": "stdout",
          "text": [
            "(6236, 14658)\n"
          ]
        }
      ]
    },
    {
      "cell_type": "code",
      "source": [
        "# Generate matrix of word vectors\n",
        "tfidf_matrix_nahj = vectorizer_nahj.fit_transform(df_nahj_complete_dict_nrmlz['verse'])\n",
        "# Print the shape of tfidf_matrix\n",
        "print(tfidf_matrix_nahj.shape)"
      ],
      "metadata": {
        "colab": {
          "base_uri": "https://localhost:8080/"
        },
        "id": "0sG15MBzjCX9",
        "outputId": "603bf33c-c171-4dc3-ba58-c91ca875a3c0"
      },
      "execution_count": null,
      "outputs": [
        {
          "output_type": "stream",
          "name": "stdout",
          "text": [
            "(800, 21094)\n"
          ]
        }
      ]
    },
    {
      "cell_type": "code",
      "source": [
        "# Generate matrix of word vectors\n",
        "tfidf_matrix_sahife = vectorizer_sahife.fit_transform(df_sahife_complete_dict_nrmlz['verse'])\n",
        "# Print the shape of tfidf_matrix\n",
        "print(tfidf_matrix_sahife.shape)"
      ],
      "metadata": {
        "colab": {
          "base_uri": "https://localhost:8080/"
        },
        "id": "v6WBfM_klkmG",
        "outputId": "3a09601b-0106-4f07-d258-a3149395e7f5"
      },
      "execution_count": null,
      "outputs": [
        {
          "output_type": "stream",
          "name": "stdout",
          "text": [
            "(924, 7711)\n"
          ]
        }
      ]
    },
    {
      "cell_type": "code",
      "source": [
        "# Generate matrix of word vectors\n",
        "tfidf_matrix_quran_char = vectorizer_quran_char.fit_transform(df_verse_complete_dict_nrmlz['verse'])\n",
        "# Print the shape of tfidf_matrix\n",
        "print(tfidf_matrix_quran_char.shape)"
      ],
      "metadata": {
        "colab": {
          "base_uri": "https://localhost:8080/"
        },
        "outputId": "5ec077b4-49d3-4bfe-b010-62044560d1e1",
        "id": "GYgBiNr92uCb"
      },
      "execution_count": null,
      "outputs": [
        {
          "output_type": "stream",
          "name": "stdout",
          "text": [
            "(6236, 40)\n"
          ]
        }
      ]
    },
    {
      "cell_type": "code",
      "source": [
        "# Generate matrix of word vectors\n",
        "tfidf_matrix_nahj_char = vectorizer_nahj_char.fit_transform(df_nahj_complete_dict_nrmlz['verse'])\n",
        "# Print the shape of tfidf_matrix\n",
        "print(tfidf_matrix_nahj_char.shape)"
      ],
      "metadata": {
        "colab": {
          "base_uri": "https://localhost:8080/"
        },
        "outputId": "e7de6f92-28c0-4a56-ddcd-7edde57716d2",
        "id": "Zute2zeE2uCb"
      },
      "execution_count": null,
      "outputs": [
        {
          "output_type": "stream",
          "name": "stdout",
          "text": [
            "(800, 36)\n"
          ]
        }
      ]
    },
    {
      "cell_type": "code",
      "source": [
        "# Generate matrix of word vectors\n",
        "tfidf_matrix_sahife_char = vectorizer_sahife_char.fit_transform(df_sahife_complete_dict_nrmlz['verse'])\n",
        "# Print the shape of tfidf_matrix\n",
        "print(tfidf_matrix_sahife_char.shape)"
      ],
      "metadata": {
        "colab": {
          "base_uri": "https://localhost:8080/"
        },
        "outputId": "8401350f-2fb9-4337-d104-f5de40ac90e7",
        "id": "dDFxU8Ff2uCb"
      },
      "execution_count": null,
      "outputs": [
        {
          "output_type": "stream",
          "name": "stdout",
          "text": [
            "(924, 47)\n"
          ]
        }
      ]
    },
    {
      "cell_type": "code",
      "source": [
        "quran_indices_nrmlz = pd.Series(df_verse_complete_dict_nrmlz.index, index = df_verse_complete_dict_nrmlz['verse'])\n",
        "nahj_indices_nrmlz = pd.Series(df_nahj_complete_dict_nrmlz.index, index = df_nahj_complete_dict_nrmlz['verse'])\n",
        "sahife_indices_nrmlz = pd.Series(df_sahife_complete_dict_nrmlz.index, index = df_sahife_complete_dict_nrmlz['verse'])"
      ],
      "metadata": {
        "id": "MjEoxdoVgRJ2"
      },
      "execution_count": null,
      "outputs": []
    },
    {
      "cell_type": "code",
      "source": [
        "input = 'مِنْ شَرِّ الْوَسْوَاسِ الْخَنَّاسِ'\n",
        "input = normalize_arabic(input)\n",
        "input = [input]"
      ],
      "metadata": {
        "id": "cCDmgKT4gryJ"
      },
      "execution_count": null,
      "outputs": []
    },
    {
      "cell_type": "code",
      "source": [
        "def get_similars_from_quran(input, vectors, indices, mode='word'):\n",
        "\n",
        "    if mode == 'word':\n",
        "          tfidf_matrix_input = vectorizer_quran.transform(input)\n",
        "          linear_sim = linear_kernel(tfidf_matrix_input , tfidf_matrix_quran)\n",
        "    elif mode == 'char':\n",
        "          tfidf_matrix_input = vectorizer_quran_char.transform(input)\n",
        "          linear_sim = linear_kernel(tfidf_matrix_input , tfidf_matrix_quran_char)\n",
        "\n",
        "    # Get the pairwsie similarity scores\n",
        "    sim_scores = list(enumerate(linear_sim[0]))\n",
        "\n",
        "    # Sort the verses based on the similarity scores\n",
        "    sim_scores = sorted(sim_scores, key=lambda x: x[1], reverse=True)\n",
        "    # Get the scores for 10 most similar verses\n",
        "    sim_scores = sim_scores[0:10]\n",
        "\n",
        "    # Get the verses indices\n",
        "    indices = [i[0] for i in sim_scores]\n",
        "\n",
        "    # Return the top 10 most similar verses\n",
        "    return df_verse_complete_dict['verse'].iloc[indices]"
      ],
      "metadata": {
        "id": "DbF2OIhDfKCD"
      },
      "execution_count": null,
      "outputs": []
    },
    {
      "cell_type": "code",
      "source": [
        "def get_similars_from_nahj(input, vectors, indices, mode = 'word'):\n",
        "\n",
        "    if mode == 'word':\n",
        "          tfidf_matrix_input = vectorizer_nahj.transform(input)\n",
        "          linear_sim = linear_kernel(tfidf_matrix_input , tfidf_matrix_nahj)\n",
        "    elif mode == 'char':\n",
        "          tfidf_matrix_input = vectorizer_nahj_char.transform(input)\n",
        "          linear_sim = linear_kernel(tfidf_matrix_input , tfidf_matrix_nahj_char)\n",
        "\n",
        "\n",
        "    # Get the pairwsie similarity scores\n",
        "    sim_scores = list(enumerate(linear_sim[0]))\n",
        "\n",
        "    # Sort the verses based on the similarity scores\n",
        "    sim_scores = sorted(sim_scores, key=lambda x: x[1], reverse=True)\n",
        "    # Get the scores for 10 most similar verses\n",
        "    sim_scores = sim_scores[0:10]\n",
        "\n",
        "    # Get the verses indices\n",
        "    indices = [i[0] for i in sim_scores]\n",
        "\n",
        "    # Return the top 10 most similar verses\n",
        "    return df_nahj_complete_dict['verse'].iloc[indices]"
      ],
      "metadata": {
        "id": "B39bNA_joijS"
      },
      "execution_count": null,
      "outputs": []
    },
    {
      "cell_type": "code",
      "source": [
        "def get_similars_from_sahife(input, vectors, indices, mode='word'):\n",
        "\n",
        "    if mode == 'word':\n",
        "          tfidf_matrix_input = vectorizer_sahife.transform(input)\n",
        "          linear_sim = linear_kernel(tfidf_matrix_input , tfidf_matrix_sahife)\n",
        "    elif mode == 'char':\n",
        "          tfidf_matrix_input = vectorizer_sahife_char.transform(input)\n",
        "          linear_sim = linear_kernel(tfidf_matrix_input , tfidf_matrix_sahife_char)\n",
        "\n",
        "    # Get the pairwsie similarity scores\n",
        "    sim_scores = list(enumerate(linear_sim[0]))\n",
        "\n",
        "    # Sort the verses based on the similarity scores\n",
        "    sim_scores = sorted(sim_scores, key=lambda x: x[1], reverse=True)\n",
        "    # Get the scores for 10 most similar verses\n",
        "    sim_scores = sim_scores[0:10]\n",
        "\n",
        "    # Get the verses indices\n",
        "    indices = [i[0] for i in sim_scores]\n",
        "\n",
        "    # Return the top 10 most similar verses\n",
        "    return df_sahife_complete_dict['verse'].iloc[indices]"
      ],
      "metadata": {
        "id": "wu8R6GaLoivh"
      },
      "execution_count": null,
      "outputs": []
    },
    {
      "cell_type": "code",
      "source": [
        "recoms = pd.DataFrame(get_similars_from_quran(input, vectorizer_quran , quran_indices_nrmlz, 'word'))\n",
        "recoms"
      ],
      "metadata": {
        "colab": {
          "base_uri": "https://localhost:8080/",
          "height": 363
        },
        "id": "Auqu-60emQ4F",
        "outputId": "36aefcda-ca4b-4bcd-811d-41f083575844"
      },
      "execution_count": null,
      "outputs": [
        {
          "output_type": "execute_result",
          "data": {
            "text/plain": [
              "                                                  verse\n",
              "6233                مِنْ شَرِّ الْوَسْوَاسِ الْخَنَّاسِ\n",
              "6226                              مِنْ شَرِّ مَا خَلَقَ\n",
              "6228          وَمِنْ شَرِّ النَّفَّاثَاتِ فِي الْعُقَدِ\n",
              "6227                  وَمِنْ شَرِّ غَاسِقٍ إِذَا وَقَبَ\n",
              "6229                  وَمِنْ شَرِّ حَاسِدٍ إِذَا حَسَدَ\n",
              "1214  إِنَّ شَرَّ الدَّوَابِّ عِنْدَ اللَّهِ الَّذِي...\n",
              "1181  إِنَّ شَرَّ الدَّوَابِّ عِنْدَ اللَّهِ الصُّمّ...\n",
              "6135  إِنَّ الَّذِينَ كَفَرُوا مِنْ أَهْلِ الْكِتَاب...\n",
              "2888  الَّذِينَ يُحْشَرُونَ عَلَىٰ وُجُوهِهِمْ إِلَى...\n",
              "5601  فَوَقَاهُمُ اللَّهُ شَرَّ ذَٰلِكَ الْيَوْمِ وَ..."
            ],
            "text/html": [
              "\n",
              "  <div id=\"df-ed47e106-8a71-42a0-8c80-e1b2b28c796a\">\n",
              "    <div class=\"colab-df-container\">\n",
              "      <div>\n",
              "<style scoped>\n",
              "    .dataframe tbody tr th:only-of-type {\n",
              "        vertical-align: middle;\n",
              "    }\n",
              "\n",
              "    .dataframe tbody tr th {\n",
              "        vertical-align: top;\n",
              "    }\n",
              "\n",
              "    .dataframe thead th {\n",
              "        text-align: right;\n",
              "    }\n",
              "</style>\n",
              "<table border=\"1\" class=\"dataframe\">\n",
              "  <thead>\n",
              "    <tr style=\"text-align: right;\">\n",
              "      <th></th>\n",
              "      <th>verse</th>\n",
              "    </tr>\n",
              "  </thead>\n",
              "  <tbody>\n",
              "    <tr>\n",
              "      <th>6233</th>\n",
              "      <td>مِنْ شَرِّ الْوَسْوَاسِ الْخَنَّاسِ</td>\n",
              "    </tr>\n",
              "    <tr>\n",
              "      <th>6226</th>\n",
              "      <td>مِنْ شَرِّ مَا خَلَقَ</td>\n",
              "    </tr>\n",
              "    <tr>\n",
              "      <th>6228</th>\n",
              "      <td>وَمِنْ شَرِّ النَّفَّاثَاتِ فِي الْعُقَدِ</td>\n",
              "    </tr>\n",
              "    <tr>\n",
              "      <th>6227</th>\n",
              "      <td>وَمِنْ شَرِّ غَاسِقٍ إِذَا وَقَبَ</td>\n",
              "    </tr>\n",
              "    <tr>\n",
              "      <th>6229</th>\n",
              "      <td>وَمِنْ شَرِّ حَاسِدٍ إِذَا حَسَدَ</td>\n",
              "    </tr>\n",
              "    <tr>\n",
              "      <th>1214</th>\n",
              "      <td>إِنَّ شَرَّ الدَّوَابِّ عِنْدَ اللَّهِ الَّذِي...</td>\n",
              "    </tr>\n",
              "    <tr>\n",
              "      <th>1181</th>\n",
              "      <td>إِنَّ شَرَّ الدَّوَابِّ عِنْدَ اللَّهِ الصُّمّ...</td>\n",
              "    </tr>\n",
              "    <tr>\n",
              "      <th>6135</th>\n",
              "      <td>إِنَّ الَّذِينَ كَفَرُوا مِنْ أَهْلِ الْكِتَاب...</td>\n",
              "    </tr>\n",
              "    <tr>\n",
              "      <th>2888</th>\n",
              "      <td>الَّذِينَ يُحْشَرُونَ عَلَىٰ وُجُوهِهِمْ إِلَى...</td>\n",
              "    </tr>\n",
              "    <tr>\n",
              "      <th>5601</th>\n",
              "      <td>فَوَقَاهُمُ اللَّهُ شَرَّ ذَٰلِكَ الْيَوْمِ وَ...</td>\n",
              "    </tr>\n",
              "  </tbody>\n",
              "</table>\n",
              "</div>\n",
              "      <button class=\"colab-df-convert\" onclick=\"convertToInteractive('df-ed47e106-8a71-42a0-8c80-e1b2b28c796a')\"\n",
              "              title=\"Convert this dataframe to an interactive table.\"\n",
              "              style=\"display:none;\">\n",
              "        \n",
              "  <svg xmlns=\"http://www.w3.org/2000/svg\" height=\"24px\"viewBox=\"0 0 24 24\"\n",
              "       width=\"24px\">\n",
              "    <path d=\"M0 0h24v24H0V0z\" fill=\"none\"/>\n",
              "    <path d=\"M18.56 5.44l.94 2.06.94-2.06 2.06-.94-2.06-.94-.94-2.06-.94 2.06-2.06.94zm-11 1L8.5 8.5l.94-2.06 2.06-.94-2.06-.94L8.5 2.5l-.94 2.06-2.06.94zm10 10l.94 2.06.94-2.06 2.06-.94-2.06-.94-.94-2.06-.94 2.06-2.06.94z\"/><path d=\"M17.41 7.96l-1.37-1.37c-.4-.4-.92-.59-1.43-.59-.52 0-1.04.2-1.43.59L10.3 9.45l-7.72 7.72c-.78.78-.78 2.05 0 2.83L4 21.41c.39.39.9.59 1.41.59.51 0 1.02-.2 1.41-.59l7.78-7.78 2.81-2.81c.8-.78.8-2.07 0-2.86zM5.41 20L4 18.59l7.72-7.72 1.47 1.35L5.41 20z\"/>\n",
              "  </svg>\n",
              "      </button>\n",
              "      \n",
              "  <style>\n",
              "    .colab-df-container {\n",
              "      display:flex;\n",
              "      flex-wrap:wrap;\n",
              "      gap: 12px;\n",
              "    }\n",
              "\n",
              "    .colab-df-convert {\n",
              "      background-color: #E8F0FE;\n",
              "      border: none;\n",
              "      border-radius: 50%;\n",
              "      cursor: pointer;\n",
              "      display: none;\n",
              "      fill: #1967D2;\n",
              "      height: 32px;\n",
              "      padding: 0 0 0 0;\n",
              "      width: 32px;\n",
              "    }\n",
              "\n",
              "    .colab-df-convert:hover {\n",
              "      background-color: #E2EBFA;\n",
              "      box-shadow: 0px 1px 2px rgba(60, 64, 67, 0.3), 0px 1px 3px 1px rgba(60, 64, 67, 0.15);\n",
              "      fill: #174EA6;\n",
              "    }\n",
              "\n",
              "    [theme=dark] .colab-df-convert {\n",
              "      background-color: #3B4455;\n",
              "      fill: #D2E3FC;\n",
              "    }\n",
              "\n",
              "    [theme=dark] .colab-df-convert:hover {\n",
              "      background-color: #434B5C;\n",
              "      box-shadow: 0px 1px 3px 1px rgba(0, 0, 0, 0.15);\n",
              "      filter: drop-shadow(0px 1px 2px rgba(0, 0, 0, 0.3));\n",
              "      fill: #FFFFFF;\n",
              "    }\n",
              "  </style>\n",
              "\n",
              "      <script>\n",
              "        const buttonEl =\n",
              "          document.querySelector('#df-ed47e106-8a71-42a0-8c80-e1b2b28c796a button.colab-df-convert');\n",
              "        buttonEl.style.display =\n",
              "          google.colab.kernel.accessAllowed ? 'block' : 'none';\n",
              "\n",
              "        async function convertToInteractive(key) {\n",
              "          const element = document.querySelector('#df-ed47e106-8a71-42a0-8c80-e1b2b28c796a');\n",
              "          const dataTable =\n",
              "            await google.colab.kernel.invokeFunction('convertToInteractive',\n",
              "                                                     [key], {});\n",
              "          if (!dataTable) return;\n",
              "\n",
              "          const docLinkHtml = 'Like what you see? Visit the ' +\n",
              "            '<a target=\"_blank\" href=https://colab.research.google.com/notebooks/data_table.ipynb>data table notebook</a>'\n",
              "            + ' to learn more about interactive tables.';\n",
              "          element.innerHTML = '';\n",
              "          dataTable['output_type'] = 'display_data';\n",
              "          await google.colab.output.renderOutput(dataTable, element);\n",
              "          const docLink = document.createElement('div');\n",
              "          docLink.innerHTML = docLinkHtml;\n",
              "          element.appendChild(docLink);\n",
              "        }\n",
              "      </script>\n",
              "    </div>\n",
              "  </div>\n",
              "  "
            ]
          },
          "metadata": {},
          "execution_count": 117
        }
      ]
    },
    {
      "cell_type": "code",
      "source": [
        "recoms = pd.DataFrame(get_similars_from_nahj(input, vectorizer_nahj , nahj_indices_nrmlz, 'word'))\n",
        "recoms"
      ],
      "metadata": {
        "colab": {
          "base_uri": "https://localhost:8080/",
          "height": 363
        },
        "id": "xSmw9VBekoGo",
        "outputId": "bedce73b-cb9f-46e0-96cb-9fce6a2297ab"
      },
      "execution_count": null,
      "outputs": [
        {
          "output_type": "execute_result",
          "data": {
            "text/plain": [
              "                                                 verse\n",
              "557  وَ قَالَ ع المَرأَةُ شَرّ کُلّهَا وَ شَرّ مَا ...\n",
              "798       وَ قَالَ ع شَرّ الإِخوَانِ مَن تُکُلّفَ لَهُ\n",
              "351  وَ قَالَ ع فَاعِلُ الخَیرِ خَیرٌ مِنهُ وَ فَاع...\n",
              "688  وَ قَالَ ع یأَتیِ عَلَی النّاسِ زَمَانٌ لَا یَ...\n",
              "706  وَ قَالَ ع مَا خَیرٌ بِخَیرٍ بَعدَهُ النّارُ و...\n",
              "25   إِنّ اللّهَ بَعَثَ مُحَمّداً\n",
              "ص نَذِیراً لِلعَا...\n",
              "245  وَ إِنّ عَمَلَکَ لَیسَ لَکَ بِطُعمَةٍ وَ لَکِن...\n",
              "267  فَاخفِض لَهُم جَنَاحَکَ وَ أَلِن لَهُم جَانِبَ...\n",
              "57   أَصَابَکُم حَاصِبٌ وَ لَا بقَیِ‌َ مِنکُم آثِرٌ...\n",
              "279  فَإِنّکَ قَد جَعَلتَ دِینَکَ تَبَعاً لِدُنیَا ..."
            ],
            "text/html": [
              "\n",
              "  <div id=\"df-ef290130-109d-4880-8e7f-eb17bc727952\">\n",
              "    <div class=\"colab-df-container\">\n",
              "      <div>\n",
              "<style scoped>\n",
              "    .dataframe tbody tr th:only-of-type {\n",
              "        vertical-align: middle;\n",
              "    }\n",
              "\n",
              "    .dataframe tbody tr th {\n",
              "        vertical-align: top;\n",
              "    }\n",
              "\n",
              "    .dataframe thead th {\n",
              "        text-align: right;\n",
              "    }\n",
              "</style>\n",
              "<table border=\"1\" class=\"dataframe\">\n",
              "  <thead>\n",
              "    <tr style=\"text-align: right;\">\n",
              "      <th></th>\n",
              "      <th>verse</th>\n",
              "    </tr>\n",
              "  </thead>\n",
              "  <tbody>\n",
              "    <tr>\n",
              "      <th>557</th>\n",
              "      <td>وَ قَالَ ع المَرأَةُ شَرّ کُلّهَا وَ شَرّ مَا ...</td>\n",
              "    </tr>\n",
              "    <tr>\n",
              "      <th>798</th>\n",
              "      <td>وَ قَالَ ع شَرّ الإِخوَانِ مَن تُکُلّفَ لَهُ</td>\n",
              "    </tr>\n",
              "    <tr>\n",
              "      <th>351</th>\n",
              "      <td>وَ قَالَ ع فَاعِلُ الخَیرِ خَیرٌ مِنهُ وَ فَاع...</td>\n",
              "    </tr>\n",
              "    <tr>\n",
              "      <th>688</th>\n",
              "      <td>وَ قَالَ ع یأَتیِ عَلَی النّاسِ زَمَانٌ لَا یَ...</td>\n",
              "    </tr>\n",
              "    <tr>\n",
              "      <th>706</th>\n",
              "      <td>وَ قَالَ ع مَا خَیرٌ بِخَیرٍ بَعدَهُ النّارُ و...</td>\n",
              "    </tr>\n",
              "    <tr>\n",
              "      <th>25</th>\n",
              "      <td>إِنّ اللّهَ بَعَثَ مُحَمّداً\u001eص نَذِیراً لِلعَا...</td>\n",
              "    </tr>\n",
              "    <tr>\n",
              "      <th>245</th>\n",
              "      <td>وَ إِنّ عَمَلَکَ لَیسَ لَکَ بِطُعمَةٍ وَ لَکِن...</td>\n",
              "    </tr>\n",
              "    <tr>\n",
              "      <th>267</th>\n",
              "      <td>فَاخفِض لَهُم جَنَاحَکَ وَ أَلِن لَهُم جَانِبَ...</td>\n",
              "    </tr>\n",
              "    <tr>\n",
              "      <th>57</th>\n",
              "      <td>أَصَابَکُم حَاصِبٌ وَ لَا بقَیِ‌َ مِنکُم آثِرٌ...</td>\n",
              "    </tr>\n",
              "    <tr>\n",
              "      <th>279</th>\n",
              "      <td>فَإِنّکَ قَد جَعَلتَ دِینَکَ تَبَعاً لِدُنیَا ...</td>\n",
              "    </tr>\n",
              "  </tbody>\n",
              "</table>\n",
              "</div>\n",
              "      <button class=\"colab-df-convert\" onclick=\"convertToInteractive('df-ef290130-109d-4880-8e7f-eb17bc727952')\"\n",
              "              title=\"Convert this dataframe to an interactive table.\"\n",
              "              style=\"display:none;\">\n",
              "        \n",
              "  <svg xmlns=\"http://www.w3.org/2000/svg\" height=\"24px\"viewBox=\"0 0 24 24\"\n",
              "       width=\"24px\">\n",
              "    <path d=\"M0 0h24v24H0V0z\" fill=\"none\"/>\n",
              "    <path d=\"M18.56 5.44l.94 2.06.94-2.06 2.06-.94-2.06-.94-.94-2.06-.94 2.06-2.06.94zm-11 1L8.5 8.5l.94-2.06 2.06-.94-2.06-.94L8.5 2.5l-.94 2.06-2.06.94zm10 10l.94 2.06.94-2.06 2.06-.94-2.06-.94-.94-2.06-.94 2.06-2.06.94z\"/><path d=\"M17.41 7.96l-1.37-1.37c-.4-.4-.92-.59-1.43-.59-.52 0-1.04.2-1.43.59L10.3 9.45l-7.72 7.72c-.78.78-.78 2.05 0 2.83L4 21.41c.39.39.9.59 1.41.59.51 0 1.02-.2 1.41-.59l7.78-7.78 2.81-2.81c.8-.78.8-2.07 0-2.86zM5.41 20L4 18.59l7.72-7.72 1.47 1.35L5.41 20z\"/>\n",
              "  </svg>\n",
              "      </button>\n",
              "      \n",
              "  <style>\n",
              "    .colab-df-container {\n",
              "      display:flex;\n",
              "      flex-wrap:wrap;\n",
              "      gap: 12px;\n",
              "    }\n",
              "\n",
              "    .colab-df-convert {\n",
              "      background-color: #E8F0FE;\n",
              "      border: none;\n",
              "      border-radius: 50%;\n",
              "      cursor: pointer;\n",
              "      display: none;\n",
              "      fill: #1967D2;\n",
              "      height: 32px;\n",
              "      padding: 0 0 0 0;\n",
              "      width: 32px;\n",
              "    }\n",
              "\n",
              "    .colab-df-convert:hover {\n",
              "      background-color: #E2EBFA;\n",
              "      box-shadow: 0px 1px 2px rgba(60, 64, 67, 0.3), 0px 1px 3px 1px rgba(60, 64, 67, 0.15);\n",
              "      fill: #174EA6;\n",
              "    }\n",
              "\n",
              "    [theme=dark] .colab-df-convert {\n",
              "      background-color: #3B4455;\n",
              "      fill: #D2E3FC;\n",
              "    }\n",
              "\n",
              "    [theme=dark] .colab-df-convert:hover {\n",
              "      background-color: #434B5C;\n",
              "      box-shadow: 0px 1px 3px 1px rgba(0, 0, 0, 0.15);\n",
              "      filter: drop-shadow(0px 1px 2px rgba(0, 0, 0, 0.3));\n",
              "      fill: #FFFFFF;\n",
              "    }\n",
              "  </style>\n",
              "\n",
              "      <script>\n",
              "        const buttonEl =\n",
              "          document.querySelector('#df-ef290130-109d-4880-8e7f-eb17bc727952 button.colab-df-convert');\n",
              "        buttonEl.style.display =\n",
              "          google.colab.kernel.accessAllowed ? 'block' : 'none';\n",
              "\n",
              "        async function convertToInteractive(key) {\n",
              "          const element = document.querySelector('#df-ef290130-109d-4880-8e7f-eb17bc727952');\n",
              "          const dataTable =\n",
              "            await google.colab.kernel.invokeFunction('convertToInteractive',\n",
              "                                                     [key], {});\n",
              "          if (!dataTable) return;\n",
              "\n",
              "          const docLinkHtml = 'Like what you see? Visit the ' +\n",
              "            '<a target=\"_blank\" href=https://colab.research.google.com/notebooks/data_table.ipynb>data table notebook</a>'\n",
              "            + ' to learn more about interactive tables.';\n",
              "          element.innerHTML = '';\n",
              "          dataTable['output_type'] = 'display_data';\n",
              "          await google.colab.output.renderOutput(dataTable, element);\n",
              "          const docLink = document.createElement('div');\n",
              "          docLink.innerHTML = docLinkHtml;\n",
              "          element.appendChild(docLink);\n",
              "        }\n",
              "      </script>\n",
              "    </div>\n",
              "  </div>\n",
              "  "
            ]
          },
          "metadata": {},
          "execution_count": 118
        }
      ]
    },
    {
      "cell_type": "code",
      "source": [
        "recoms = pd.DataFrame(get_similars_from_sahife(input, vectorizer_sahife , sahife_indices_nrmlz, 'word'))\n",
        "recoms"
      ],
      "metadata": {
        "colab": {
          "base_uri": "https://localhost:8080/",
          "height": 363
        },
        "id": "wxpnsHX61KSh",
        "outputId": "8ff2740b-3e9a-4e27-f2bb-3891175ff925"
      },
      "execution_count": null,
      "outputs": [
        {
          "output_type": "execute_result",
          "data": {
            "text/plain": [
              "                                                 verse\n",
              "583   وَ ارْحَمْ بِالْقُرْآنِ فِي مَوْقِفِ الْعَرْض...\n",
              "650   السَّلَامُ عَلَیْکَ مِنْ شَهْرٍ هُوَ مِنْ کُل...\n",
              "693   فَقَدْ ظَاهَرْتَ الْحُجَجَ، وَ أَبْلَیْتَ الْ...\n",
              "274   إِنَّ ذَلِکَ لَا یَضِیقُ عَلَیْکَ فِي وُسْعِک...\n",
              "392   اللَّهُمَّ أَعْطِنَا جَمِیعَ ذَلِکَ بِتَوْفِی...\n",
              "379   اللَّهُمَّ صَلِّ عَلَی مُحَمَّدٍ وَ آلِه‌ِ، و...\n",
              "701   وَ أَنْتَ اللَّه‌ُ لَا إِلَه‌َ إِلَّا أَنْتَ،...\n",
              "661   اللَّهُمَّ فَلَکَ الْحَمْدُ إِقْرَاراً بِالْإ...\n",
              "107   اللَّهُمَّ فَصَلِّ عَلَی مُحَمَّدٍ وَ آلِه‌ِ،...\n",
              "78    فَصَلِّ عَلَیْهِمْ یَومَ یَأْتِي کُلُّ نَفْسٍ..."
            ],
            "text/html": [
              "\n",
              "  <div id=\"df-dcbdc800-17ee-4c61-a477-2e7b2d37ca44\">\n",
              "    <div class=\"colab-df-container\">\n",
              "      <div>\n",
              "<style scoped>\n",
              "    .dataframe tbody tr th:only-of-type {\n",
              "        vertical-align: middle;\n",
              "    }\n",
              "\n",
              "    .dataframe tbody tr th {\n",
              "        vertical-align: top;\n",
              "    }\n",
              "\n",
              "    .dataframe thead th {\n",
              "        text-align: right;\n",
              "    }\n",
              "</style>\n",
              "<table border=\"1\" class=\"dataframe\">\n",
              "  <thead>\n",
              "    <tr style=\"text-align: right;\">\n",
              "      <th></th>\n",
              "      <th>verse</th>\n",
              "    </tr>\n",
              "  </thead>\n",
              "  <tbody>\n",
              "    <tr>\n",
              "      <th>583</th>\n",
              "      <td>وَ ارْحَمْ بِالْقُرْآنِ فِي مَوْقِفِ الْعَرْض...</td>\n",
              "    </tr>\n",
              "    <tr>\n",
              "      <th>650</th>\n",
              "      <td>السَّلَامُ عَلَیْکَ مِنْ شَهْرٍ هُوَ مِنْ کُل...</td>\n",
              "    </tr>\n",
              "    <tr>\n",
              "      <th>693</th>\n",
              "      <td>فَقَدْ ظَاهَرْتَ الْحُجَجَ، وَ أَبْلَیْتَ الْ...</td>\n",
              "    </tr>\n",
              "    <tr>\n",
              "      <th>274</th>\n",
              "      <td>إِنَّ ذَلِکَ لَا یَضِیقُ عَلَیْکَ فِي وُسْعِک...</td>\n",
              "    </tr>\n",
              "    <tr>\n",
              "      <th>392</th>\n",
              "      <td>اللَّهُمَّ أَعْطِنَا جَمِیعَ ذَلِکَ بِتَوْفِی...</td>\n",
              "    </tr>\n",
              "    <tr>\n",
              "      <th>379</th>\n",
              "      <td>اللَّهُمَّ صَلِّ عَلَی مُحَمَّدٍ وَ آلِه‌ِ، و...</td>\n",
              "    </tr>\n",
              "    <tr>\n",
              "      <th>701</th>\n",
              "      <td>وَ أَنْتَ اللَّه‌ُ لَا إِلَه‌َ إِلَّا أَنْتَ،...</td>\n",
              "    </tr>\n",
              "    <tr>\n",
              "      <th>661</th>\n",
              "      <td>اللَّهُمَّ فَلَکَ الْحَمْدُ إِقْرَاراً بِالْإ...</td>\n",
              "    </tr>\n",
              "    <tr>\n",
              "      <th>107</th>\n",
              "      <td>اللَّهُمَّ فَصَلِّ عَلَی مُحَمَّدٍ وَ آلِه‌ِ،...</td>\n",
              "    </tr>\n",
              "    <tr>\n",
              "      <th>78</th>\n",
              "      <td>فَصَلِّ عَلَیْهِمْ یَومَ یَأْتِي کُلُّ نَفْسٍ...</td>\n",
              "    </tr>\n",
              "  </tbody>\n",
              "</table>\n",
              "</div>\n",
              "      <button class=\"colab-df-convert\" onclick=\"convertToInteractive('df-dcbdc800-17ee-4c61-a477-2e7b2d37ca44')\"\n",
              "              title=\"Convert this dataframe to an interactive table.\"\n",
              "              style=\"display:none;\">\n",
              "        \n",
              "  <svg xmlns=\"http://www.w3.org/2000/svg\" height=\"24px\"viewBox=\"0 0 24 24\"\n",
              "       width=\"24px\">\n",
              "    <path d=\"M0 0h24v24H0V0z\" fill=\"none\"/>\n",
              "    <path d=\"M18.56 5.44l.94 2.06.94-2.06 2.06-.94-2.06-.94-.94-2.06-.94 2.06-2.06.94zm-11 1L8.5 8.5l.94-2.06 2.06-.94-2.06-.94L8.5 2.5l-.94 2.06-2.06.94zm10 10l.94 2.06.94-2.06 2.06-.94-2.06-.94-.94-2.06-.94 2.06-2.06.94z\"/><path d=\"M17.41 7.96l-1.37-1.37c-.4-.4-.92-.59-1.43-.59-.52 0-1.04.2-1.43.59L10.3 9.45l-7.72 7.72c-.78.78-.78 2.05 0 2.83L4 21.41c.39.39.9.59 1.41.59.51 0 1.02-.2 1.41-.59l7.78-7.78 2.81-2.81c.8-.78.8-2.07 0-2.86zM5.41 20L4 18.59l7.72-7.72 1.47 1.35L5.41 20z\"/>\n",
              "  </svg>\n",
              "      </button>\n",
              "      \n",
              "  <style>\n",
              "    .colab-df-container {\n",
              "      display:flex;\n",
              "      flex-wrap:wrap;\n",
              "      gap: 12px;\n",
              "    }\n",
              "\n",
              "    .colab-df-convert {\n",
              "      background-color: #E8F0FE;\n",
              "      border: none;\n",
              "      border-radius: 50%;\n",
              "      cursor: pointer;\n",
              "      display: none;\n",
              "      fill: #1967D2;\n",
              "      height: 32px;\n",
              "      padding: 0 0 0 0;\n",
              "      width: 32px;\n",
              "    }\n",
              "\n",
              "    .colab-df-convert:hover {\n",
              "      background-color: #E2EBFA;\n",
              "      box-shadow: 0px 1px 2px rgba(60, 64, 67, 0.3), 0px 1px 3px 1px rgba(60, 64, 67, 0.15);\n",
              "      fill: #174EA6;\n",
              "    }\n",
              "\n",
              "    [theme=dark] .colab-df-convert {\n",
              "      background-color: #3B4455;\n",
              "      fill: #D2E3FC;\n",
              "    }\n",
              "\n",
              "    [theme=dark] .colab-df-convert:hover {\n",
              "      background-color: #434B5C;\n",
              "      box-shadow: 0px 1px 3px 1px rgba(0, 0, 0, 0.15);\n",
              "      filter: drop-shadow(0px 1px 2px rgba(0, 0, 0, 0.3));\n",
              "      fill: #FFFFFF;\n",
              "    }\n",
              "  </style>\n",
              "\n",
              "      <script>\n",
              "        const buttonEl =\n",
              "          document.querySelector('#df-dcbdc800-17ee-4c61-a477-2e7b2d37ca44 button.colab-df-convert');\n",
              "        buttonEl.style.display =\n",
              "          google.colab.kernel.accessAllowed ? 'block' : 'none';\n",
              "\n",
              "        async function convertToInteractive(key) {\n",
              "          const element = document.querySelector('#df-dcbdc800-17ee-4c61-a477-2e7b2d37ca44');\n",
              "          const dataTable =\n",
              "            await google.colab.kernel.invokeFunction('convertToInteractive',\n",
              "                                                     [key], {});\n",
              "          if (!dataTable) return;\n",
              "\n",
              "          const docLinkHtml = 'Like what you see? Visit the ' +\n",
              "            '<a target=\"_blank\" href=https://colab.research.google.com/notebooks/data_table.ipynb>data table notebook</a>'\n",
              "            + ' to learn more about interactive tables.';\n",
              "          element.innerHTML = '';\n",
              "          dataTable['output_type'] = 'display_data';\n",
              "          await google.colab.output.renderOutput(dataTable, element);\n",
              "          const docLink = document.createElement('div');\n",
              "          docLink.innerHTML = docLinkHtml;\n",
              "          element.appendChild(docLink);\n",
              "        }\n",
              "      </script>\n",
              "    </div>\n",
              "  </div>\n",
              "  "
            ]
          },
          "metadata": {},
          "execution_count": 119
        }
      ]
    },
    {
      "cell_type": "code",
      "source": [
        "recoms = pd.DataFrame(get_similars_from_quran(input, vectorizer_quran , quran_indices_nrmlz, 'char'))\n",
        "recoms"
      ],
      "metadata": {
        "colab": {
          "base_uri": "https://localhost:8080/",
          "height": 363
        },
        "outputId": "1991c362-edc1-4bb8-8f08-fbde87d8b75e",
        "id": "bILK_i_j3lKV"
      },
      "execution_count": null,
      "outputs": [
        {
          "output_type": "execute_result",
          "data": {
            "text/plain": [
              "                                                  verse\n",
              "6233                مِنْ شَرِّ الْوَسْوَاسِ الْخَنَّاسِ\n",
              "50    أَتَأْمُرُونَ النَّاسَ بِالْبِرِّ وَتَنْسَوْنَ...\n",
              "5037  أَأَنْتُمْ تَخْلُقُونَهُ أَمْ نَحْنُ الْخَالِق...\n",
              "6177                    إِنَّ الْإِنْسَانَ لَفِي خُسْرٍ\n",
              "3912  أَتَدْعُونَ بَعْلًا وَتَذَرُونَ أَحْسَنَ الْخَ...\n",
              "976   قَالَا رَبَّنَا ظَلَمْنَا أَنْفُسَنَا وَإِنْ ل...\n",
              "3428  وَمِنْ آيَاتِهِ أَنْ خَلَقَكُمْ مِنْ تُرَابٍ ث...\n",
              "2105  سُنَّةَ مَنْ قَدْ أَرْسَلْنَا قَبْلَكَ مِنْ رُ...\n",
              "2128  قُلْ لَوْ أَنْتُمْ تَمْلِكُونَ خَزَائِنَ رَحْم...\n",
              "4113  أَنْ تَقُولَ نَفْسٌ يَا حَسْرَتَا عَلَىٰ مَا ف..."
            ],
            "text/html": [
              "\n",
              "  <div id=\"df-c34b38e9-db0b-4e09-a14e-843f44855e80\">\n",
              "    <div class=\"colab-df-container\">\n",
              "      <div>\n",
              "<style scoped>\n",
              "    .dataframe tbody tr th:only-of-type {\n",
              "        vertical-align: middle;\n",
              "    }\n",
              "\n",
              "    .dataframe tbody tr th {\n",
              "        vertical-align: top;\n",
              "    }\n",
              "\n",
              "    .dataframe thead th {\n",
              "        text-align: right;\n",
              "    }\n",
              "</style>\n",
              "<table border=\"1\" class=\"dataframe\">\n",
              "  <thead>\n",
              "    <tr style=\"text-align: right;\">\n",
              "      <th></th>\n",
              "      <th>verse</th>\n",
              "    </tr>\n",
              "  </thead>\n",
              "  <tbody>\n",
              "    <tr>\n",
              "      <th>6233</th>\n",
              "      <td>مِنْ شَرِّ الْوَسْوَاسِ الْخَنَّاسِ</td>\n",
              "    </tr>\n",
              "    <tr>\n",
              "      <th>50</th>\n",
              "      <td>أَتَأْمُرُونَ النَّاسَ بِالْبِرِّ وَتَنْسَوْنَ...</td>\n",
              "    </tr>\n",
              "    <tr>\n",
              "      <th>5037</th>\n",
              "      <td>أَأَنْتُمْ تَخْلُقُونَهُ أَمْ نَحْنُ الْخَالِق...</td>\n",
              "    </tr>\n",
              "    <tr>\n",
              "      <th>6177</th>\n",
              "      <td>إِنَّ الْإِنْسَانَ لَفِي خُسْرٍ</td>\n",
              "    </tr>\n",
              "    <tr>\n",
              "      <th>3912</th>\n",
              "      <td>أَتَدْعُونَ بَعْلًا وَتَذَرُونَ أَحْسَنَ الْخَ...</td>\n",
              "    </tr>\n",
              "    <tr>\n",
              "      <th>976</th>\n",
              "      <td>قَالَا رَبَّنَا ظَلَمْنَا أَنْفُسَنَا وَإِنْ ل...</td>\n",
              "    </tr>\n",
              "    <tr>\n",
              "      <th>3428</th>\n",
              "      <td>وَمِنْ آيَاتِهِ أَنْ خَلَقَكُمْ مِنْ تُرَابٍ ث...</td>\n",
              "    </tr>\n",
              "    <tr>\n",
              "      <th>2105</th>\n",
              "      <td>سُنَّةَ مَنْ قَدْ أَرْسَلْنَا قَبْلَكَ مِنْ رُ...</td>\n",
              "    </tr>\n",
              "    <tr>\n",
              "      <th>2128</th>\n",
              "      <td>قُلْ لَوْ أَنْتُمْ تَمْلِكُونَ خَزَائِنَ رَحْم...</td>\n",
              "    </tr>\n",
              "    <tr>\n",
              "      <th>4113</th>\n",
              "      <td>أَنْ تَقُولَ نَفْسٌ يَا حَسْرَتَا عَلَىٰ مَا ف...</td>\n",
              "    </tr>\n",
              "  </tbody>\n",
              "</table>\n",
              "</div>\n",
              "      <button class=\"colab-df-convert\" onclick=\"convertToInteractive('df-c34b38e9-db0b-4e09-a14e-843f44855e80')\"\n",
              "              title=\"Convert this dataframe to an interactive table.\"\n",
              "              style=\"display:none;\">\n",
              "        \n",
              "  <svg xmlns=\"http://www.w3.org/2000/svg\" height=\"24px\"viewBox=\"0 0 24 24\"\n",
              "       width=\"24px\">\n",
              "    <path d=\"M0 0h24v24H0V0z\" fill=\"none\"/>\n",
              "    <path d=\"M18.56 5.44l.94 2.06.94-2.06 2.06-.94-2.06-.94-.94-2.06-.94 2.06-2.06.94zm-11 1L8.5 8.5l.94-2.06 2.06-.94-2.06-.94L8.5 2.5l-.94 2.06-2.06.94zm10 10l.94 2.06.94-2.06 2.06-.94-2.06-.94-.94-2.06-.94 2.06-2.06.94z\"/><path d=\"M17.41 7.96l-1.37-1.37c-.4-.4-.92-.59-1.43-.59-.52 0-1.04.2-1.43.59L10.3 9.45l-7.72 7.72c-.78.78-.78 2.05 0 2.83L4 21.41c.39.39.9.59 1.41.59.51 0 1.02-.2 1.41-.59l7.78-7.78 2.81-2.81c.8-.78.8-2.07 0-2.86zM5.41 20L4 18.59l7.72-7.72 1.47 1.35L5.41 20z\"/>\n",
              "  </svg>\n",
              "      </button>\n",
              "      \n",
              "  <style>\n",
              "    .colab-df-container {\n",
              "      display:flex;\n",
              "      flex-wrap:wrap;\n",
              "      gap: 12px;\n",
              "    }\n",
              "\n",
              "    .colab-df-convert {\n",
              "      background-color: #E8F0FE;\n",
              "      border: none;\n",
              "      border-radius: 50%;\n",
              "      cursor: pointer;\n",
              "      display: none;\n",
              "      fill: #1967D2;\n",
              "      height: 32px;\n",
              "      padding: 0 0 0 0;\n",
              "      width: 32px;\n",
              "    }\n",
              "\n",
              "    .colab-df-convert:hover {\n",
              "      background-color: #E2EBFA;\n",
              "      box-shadow: 0px 1px 2px rgba(60, 64, 67, 0.3), 0px 1px 3px 1px rgba(60, 64, 67, 0.15);\n",
              "      fill: #174EA6;\n",
              "    }\n",
              "\n",
              "    [theme=dark] .colab-df-convert {\n",
              "      background-color: #3B4455;\n",
              "      fill: #D2E3FC;\n",
              "    }\n",
              "\n",
              "    [theme=dark] .colab-df-convert:hover {\n",
              "      background-color: #434B5C;\n",
              "      box-shadow: 0px 1px 3px 1px rgba(0, 0, 0, 0.15);\n",
              "      filter: drop-shadow(0px 1px 2px rgba(0, 0, 0, 0.3));\n",
              "      fill: #FFFFFF;\n",
              "    }\n",
              "  </style>\n",
              "\n",
              "      <script>\n",
              "        const buttonEl =\n",
              "          document.querySelector('#df-c34b38e9-db0b-4e09-a14e-843f44855e80 button.colab-df-convert');\n",
              "        buttonEl.style.display =\n",
              "          google.colab.kernel.accessAllowed ? 'block' : 'none';\n",
              "\n",
              "        async function convertToInteractive(key) {\n",
              "          const element = document.querySelector('#df-c34b38e9-db0b-4e09-a14e-843f44855e80');\n",
              "          const dataTable =\n",
              "            await google.colab.kernel.invokeFunction('convertToInteractive',\n",
              "                                                     [key], {});\n",
              "          if (!dataTable) return;\n",
              "\n",
              "          const docLinkHtml = 'Like what you see? Visit the ' +\n",
              "            '<a target=\"_blank\" href=https://colab.research.google.com/notebooks/data_table.ipynb>data table notebook</a>'\n",
              "            + ' to learn more about interactive tables.';\n",
              "          element.innerHTML = '';\n",
              "          dataTable['output_type'] = 'display_data';\n",
              "          await google.colab.output.renderOutput(dataTable, element);\n",
              "          const docLink = document.createElement('div');\n",
              "          docLink.innerHTML = docLinkHtml;\n",
              "          element.appendChild(docLink);\n",
              "        }\n",
              "      </script>\n",
              "    </div>\n",
              "  </div>\n",
              "  "
            ]
          },
          "metadata": {},
          "execution_count": 120
        }
      ]
    },
    {
      "cell_type": "code",
      "source": [
        "recoms = pd.DataFrame(get_similars_from_nahj(input, vectorizer_nahj , nahj_indices_nrmlz, 'char'))\n",
        "recoms"
      ],
      "metadata": {
        "colab": {
          "base_uri": "https://localhost:8080/",
          "height": 363
        },
        "outputId": "33980c0b-84e6-444f-a642-efd34796946e",
        "id": "Hw4zlskR3lKV"
      },
      "execution_count": null,
      "outputs": [
        {
          "output_type": "execute_result",
          "data": {
            "text/plain": [
              "                                                 verse\n",
              "255  أللّهُمّ إِلَیکَ أَفضَتِ القُلُوبُ وَ مُدّتِ ا...\n",
              "52   وَ مِن تَمَامِ الأُضحِیّةِ استِشرَافُ أُذُنِهَ...\n",
              "535                     وَ قَالَ ع مَن نَالَ استَطَالَ\n",
              "29   لَو أَمَرتُ بِهِ لَکُنتُ قَاتِلًا أَو نَهَیتُ ...\n",
              "679  وَ قَالَ ع لَا تَظُنّنّ بِکَلِمَةٍ خَرَجَت مِن...\n",
              "711  وَ قَالَ ع تَکَلّمُوا تُعرَفُوا فَإِنّ المَرءَ...\n",
              "142  أَلَا وَ إِنّ الأَرضَ التّیِ تُقِلّکُم وَ السّ...\n",
              "55   وَ لَقَد کُنّا مَعَ رَسُولِ اللّهِ\n",
              "ص نَقتُلُ آ...\n",
              "628  وَ قَالَ ع اتّقُوا ظُنُونَ المُؤمِنِینَ فَإِنّ...\n",
              "798       وَ قَالَ ع شَرّ الإِخوَانِ مَن تُکُلّفَ لَهُ"
            ],
            "text/html": [
              "\n",
              "  <div id=\"df-ecfff390-729a-42dd-b653-f9f472ebb3ea\">\n",
              "    <div class=\"colab-df-container\">\n",
              "      <div>\n",
              "<style scoped>\n",
              "    .dataframe tbody tr th:only-of-type {\n",
              "        vertical-align: middle;\n",
              "    }\n",
              "\n",
              "    .dataframe tbody tr th {\n",
              "        vertical-align: top;\n",
              "    }\n",
              "\n",
              "    .dataframe thead th {\n",
              "        text-align: right;\n",
              "    }\n",
              "</style>\n",
              "<table border=\"1\" class=\"dataframe\">\n",
              "  <thead>\n",
              "    <tr style=\"text-align: right;\">\n",
              "      <th></th>\n",
              "      <th>verse</th>\n",
              "    </tr>\n",
              "  </thead>\n",
              "  <tbody>\n",
              "    <tr>\n",
              "      <th>255</th>\n",
              "      <td>أللّهُمّ إِلَیکَ أَفضَتِ القُلُوبُ وَ مُدّتِ ا...</td>\n",
              "    </tr>\n",
              "    <tr>\n",
              "      <th>52</th>\n",
              "      <td>وَ مِن تَمَامِ الأُضحِیّةِ استِشرَافُ أُذُنِهَ...</td>\n",
              "    </tr>\n",
              "    <tr>\n",
              "      <th>535</th>\n",
              "      <td>وَ قَالَ ع مَن نَالَ استَطَالَ</td>\n",
              "    </tr>\n",
              "    <tr>\n",
              "      <th>29</th>\n",
              "      <td>لَو أَمَرتُ بِهِ لَکُنتُ قَاتِلًا أَو نَهَیتُ ...</td>\n",
              "    </tr>\n",
              "    <tr>\n",
              "      <th>679</th>\n",
              "      <td>وَ قَالَ ع لَا تَظُنّنّ بِکَلِمَةٍ خَرَجَت مِن...</td>\n",
              "    </tr>\n",
              "    <tr>\n",
              "      <th>711</th>\n",
              "      <td>وَ قَالَ ع تَکَلّمُوا تُعرَفُوا فَإِنّ المَرءَ...</td>\n",
              "    </tr>\n",
              "    <tr>\n",
              "      <th>142</th>\n",
              "      <td>أَلَا وَ إِنّ الأَرضَ التّیِ تُقِلّکُم وَ السّ...</td>\n",
              "    </tr>\n",
              "    <tr>\n",
              "      <th>55</th>\n",
              "      <td>وَ لَقَد کُنّا مَعَ رَسُولِ اللّهِ\u001eص نَقتُلُ آ...</td>\n",
              "    </tr>\n",
              "    <tr>\n",
              "      <th>628</th>\n",
              "      <td>وَ قَالَ ع اتّقُوا ظُنُونَ المُؤمِنِینَ فَإِنّ...</td>\n",
              "    </tr>\n",
              "    <tr>\n",
              "      <th>798</th>\n",
              "      <td>وَ قَالَ ع شَرّ الإِخوَانِ مَن تُکُلّفَ لَهُ</td>\n",
              "    </tr>\n",
              "  </tbody>\n",
              "</table>\n",
              "</div>\n",
              "      <button class=\"colab-df-convert\" onclick=\"convertToInteractive('df-ecfff390-729a-42dd-b653-f9f472ebb3ea')\"\n",
              "              title=\"Convert this dataframe to an interactive table.\"\n",
              "              style=\"display:none;\">\n",
              "        \n",
              "  <svg xmlns=\"http://www.w3.org/2000/svg\" height=\"24px\"viewBox=\"0 0 24 24\"\n",
              "       width=\"24px\">\n",
              "    <path d=\"M0 0h24v24H0V0z\" fill=\"none\"/>\n",
              "    <path d=\"M18.56 5.44l.94 2.06.94-2.06 2.06-.94-2.06-.94-.94-2.06-.94 2.06-2.06.94zm-11 1L8.5 8.5l.94-2.06 2.06-.94-2.06-.94L8.5 2.5l-.94 2.06-2.06.94zm10 10l.94 2.06.94-2.06 2.06-.94-2.06-.94-.94-2.06-.94 2.06-2.06.94z\"/><path d=\"M17.41 7.96l-1.37-1.37c-.4-.4-.92-.59-1.43-.59-.52 0-1.04.2-1.43.59L10.3 9.45l-7.72 7.72c-.78.78-.78 2.05 0 2.83L4 21.41c.39.39.9.59 1.41.59.51 0 1.02-.2 1.41-.59l7.78-7.78 2.81-2.81c.8-.78.8-2.07 0-2.86zM5.41 20L4 18.59l7.72-7.72 1.47 1.35L5.41 20z\"/>\n",
              "  </svg>\n",
              "      </button>\n",
              "      \n",
              "  <style>\n",
              "    .colab-df-container {\n",
              "      display:flex;\n",
              "      flex-wrap:wrap;\n",
              "      gap: 12px;\n",
              "    }\n",
              "\n",
              "    .colab-df-convert {\n",
              "      background-color: #E8F0FE;\n",
              "      border: none;\n",
              "      border-radius: 50%;\n",
              "      cursor: pointer;\n",
              "      display: none;\n",
              "      fill: #1967D2;\n",
              "      height: 32px;\n",
              "      padding: 0 0 0 0;\n",
              "      width: 32px;\n",
              "    }\n",
              "\n",
              "    .colab-df-convert:hover {\n",
              "      background-color: #E2EBFA;\n",
              "      box-shadow: 0px 1px 2px rgba(60, 64, 67, 0.3), 0px 1px 3px 1px rgba(60, 64, 67, 0.15);\n",
              "      fill: #174EA6;\n",
              "    }\n",
              "\n",
              "    [theme=dark] .colab-df-convert {\n",
              "      background-color: #3B4455;\n",
              "      fill: #D2E3FC;\n",
              "    }\n",
              "\n",
              "    [theme=dark] .colab-df-convert:hover {\n",
              "      background-color: #434B5C;\n",
              "      box-shadow: 0px 1px 3px 1px rgba(0, 0, 0, 0.15);\n",
              "      filter: drop-shadow(0px 1px 2px rgba(0, 0, 0, 0.3));\n",
              "      fill: #FFFFFF;\n",
              "    }\n",
              "  </style>\n",
              "\n",
              "      <script>\n",
              "        const buttonEl =\n",
              "          document.querySelector('#df-ecfff390-729a-42dd-b653-f9f472ebb3ea button.colab-df-convert');\n",
              "        buttonEl.style.display =\n",
              "          google.colab.kernel.accessAllowed ? 'block' : 'none';\n",
              "\n",
              "        async function convertToInteractive(key) {\n",
              "          const element = document.querySelector('#df-ecfff390-729a-42dd-b653-f9f472ebb3ea');\n",
              "          const dataTable =\n",
              "            await google.colab.kernel.invokeFunction('convertToInteractive',\n",
              "                                                     [key], {});\n",
              "          if (!dataTable) return;\n",
              "\n",
              "          const docLinkHtml = 'Like what you see? Visit the ' +\n",
              "            '<a target=\"_blank\" href=https://colab.research.google.com/notebooks/data_table.ipynb>data table notebook</a>'\n",
              "            + ' to learn more about interactive tables.';\n",
              "          element.innerHTML = '';\n",
              "          dataTable['output_type'] = 'display_data';\n",
              "          await google.colab.output.renderOutput(dataTable, element);\n",
              "          const docLink = document.createElement('div');\n",
              "          docLink.innerHTML = docLinkHtml;\n",
              "          element.appendChild(docLink);\n",
              "        }\n",
              "      </script>\n",
              "    </div>\n",
              "  </div>\n",
              "  "
            ]
          },
          "metadata": {},
          "execution_count": 121
        }
      ]
    },
    {
      "cell_type": "code",
      "source": [
        "recoms = pd.DataFrame(get_similars_from_sahife(input, vectorizer_sahife , sahife_indices_nrmlz, 'char'))\n",
        "recoms"
      ],
      "metadata": {
        "colab": {
          "base_uri": "https://localhost:8080/",
          "height": 363
        },
        "outputId": "8c415366-a81a-461f-e3ed-ca641f06c411",
        "id": "7XLor6PS3lKW"
      },
      "execution_count": null,
      "outputs": [
        {
          "output_type": "execute_result",
          "data": {
            "text/plain": [
              "                                                 verse\n",
              "543   اللَّهُمَّ إِنِّي أَعْتَذِرُ إِلَیْکَ مِنْ مَ...\n",
              "867   وَ کَمْ مِنْ حَاسِدٍ قَدْ شَرِقَ بِي بِغُصَّت...\n",
              "316   اللَّهُمَّ وَ أَنْطِقْنِي بِالْهُدَی، وَ أَلْ...\n",
              "204   وَ نَسَبْتَهُمْ إِلَی الْفَقْرِ وَ هُمْ أَهْل...\n",
              "258   أَنْتَ الَّذِي وَصَفْتَ نَفْسَکَ بِالرَّحْمَة...\n",
              "297   اللَّهُمَّ اسْقِنَا غَیْثاً مُغِیثاً مَرِیعاً...\n",
              "343   اللَّهُمَّ صَلِّ عَلَی مُحَمَّدٍ وَ آلِه‌ِ، و...\n",
              "304   اللَّهُمَّ صَلِّ عَلَی مُحَمَّدٍ وَ آلِه‌ِ، و...\n",
              "877   اللَّهُمَّ إِنِّي وَجَدْتُ فِیمَا أَنْزَلْتَ ...\n",
              "389   اللَّهُمَّ أَعْطِنِي کُلَّ سُؤْلِي، وَ اقْضِ ..."
            ],
            "text/html": [
              "\n",
              "  <div id=\"df-b82590fc-2045-41b8-ac4f-61fbe64a3590\">\n",
              "    <div class=\"colab-df-container\">\n",
              "      <div>\n",
              "<style scoped>\n",
              "    .dataframe tbody tr th:only-of-type {\n",
              "        vertical-align: middle;\n",
              "    }\n",
              "\n",
              "    .dataframe tbody tr th {\n",
              "        vertical-align: top;\n",
              "    }\n",
              "\n",
              "    .dataframe thead th {\n",
              "        text-align: right;\n",
              "    }\n",
              "</style>\n",
              "<table border=\"1\" class=\"dataframe\">\n",
              "  <thead>\n",
              "    <tr style=\"text-align: right;\">\n",
              "      <th></th>\n",
              "      <th>verse</th>\n",
              "    </tr>\n",
              "  </thead>\n",
              "  <tbody>\n",
              "    <tr>\n",
              "      <th>543</th>\n",
              "      <td>اللَّهُمَّ إِنِّي أَعْتَذِرُ إِلَیْکَ مِنْ مَ...</td>\n",
              "    </tr>\n",
              "    <tr>\n",
              "      <th>867</th>\n",
              "      <td>وَ کَمْ مِنْ حَاسِدٍ قَدْ شَرِقَ بِي بِغُصَّت...</td>\n",
              "    </tr>\n",
              "    <tr>\n",
              "      <th>316</th>\n",
              "      <td>اللَّهُمَّ وَ أَنْطِقْنِي بِالْهُدَی، وَ أَلْ...</td>\n",
              "    </tr>\n",
              "    <tr>\n",
              "      <th>204</th>\n",
              "      <td>وَ نَسَبْتَهُمْ إِلَی الْفَقْرِ وَ هُمْ أَهْل...</td>\n",
              "    </tr>\n",
              "    <tr>\n",
              "      <th>258</th>\n",
              "      <td>أَنْتَ الَّذِي وَصَفْتَ نَفْسَکَ بِالرَّحْمَة...</td>\n",
              "    </tr>\n",
              "    <tr>\n",
              "      <th>297</th>\n",
              "      <td>اللَّهُمَّ اسْقِنَا غَیْثاً مُغِیثاً مَرِیعاً...</td>\n",
              "    </tr>\n",
              "    <tr>\n",
              "      <th>343</th>\n",
              "      <td>اللَّهُمَّ صَلِّ عَلَی مُحَمَّدٍ وَ آلِه‌ِ، و...</td>\n",
              "    </tr>\n",
              "    <tr>\n",
              "      <th>304</th>\n",
              "      <td>اللَّهُمَّ صَلِّ عَلَی مُحَمَّدٍ وَ آلِه‌ِ، و...</td>\n",
              "    </tr>\n",
              "    <tr>\n",
              "      <th>877</th>\n",
              "      <td>اللَّهُمَّ إِنِّي وَجَدْتُ فِیمَا أَنْزَلْتَ ...</td>\n",
              "    </tr>\n",
              "    <tr>\n",
              "      <th>389</th>\n",
              "      <td>اللَّهُمَّ أَعْطِنِي کُلَّ سُؤْلِي، وَ اقْضِ ...</td>\n",
              "    </tr>\n",
              "  </tbody>\n",
              "</table>\n",
              "</div>\n",
              "      <button class=\"colab-df-convert\" onclick=\"convertToInteractive('df-b82590fc-2045-41b8-ac4f-61fbe64a3590')\"\n",
              "              title=\"Convert this dataframe to an interactive table.\"\n",
              "              style=\"display:none;\">\n",
              "        \n",
              "  <svg xmlns=\"http://www.w3.org/2000/svg\" height=\"24px\"viewBox=\"0 0 24 24\"\n",
              "       width=\"24px\">\n",
              "    <path d=\"M0 0h24v24H0V0z\" fill=\"none\"/>\n",
              "    <path d=\"M18.56 5.44l.94 2.06.94-2.06 2.06-.94-2.06-.94-.94-2.06-.94 2.06-2.06.94zm-11 1L8.5 8.5l.94-2.06 2.06-.94-2.06-.94L8.5 2.5l-.94 2.06-2.06.94zm10 10l.94 2.06.94-2.06 2.06-.94-2.06-.94-.94-2.06-.94 2.06-2.06.94z\"/><path d=\"M17.41 7.96l-1.37-1.37c-.4-.4-.92-.59-1.43-.59-.52 0-1.04.2-1.43.59L10.3 9.45l-7.72 7.72c-.78.78-.78 2.05 0 2.83L4 21.41c.39.39.9.59 1.41.59.51 0 1.02-.2 1.41-.59l7.78-7.78 2.81-2.81c.8-.78.8-2.07 0-2.86zM5.41 20L4 18.59l7.72-7.72 1.47 1.35L5.41 20z\"/>\n",
              "  </svg>\n",
              "      </button>\n",
              "      \n",
              "  <style>\n",
              "    .colab-df-container {\n",
              "      display:flex;\n",
              "      flex-wrap:wrap;\n",
              "      gap: 12px;\n",
              "    }\n",
              "\n",
              "    .colab-df-convert {\n",
              "      background-color: #E8F0FE;\n",
              "      border: none;\n",
              "      border-radius: 50%;\n",
              "      cursor: pointer;\n",
              "      display: none;\n",
              "      fill: #1967D2;\n",
              "      height: 32px;\n",
              "      padding: 0 0 0 0;\n",
              "      width: 32px;\n",
              "    }\n",
              "\n",
              "    .colab-df-convert:hover {\n",
              "      background-color: #E2EBFA;\n",
              "      box-shadow: 0px 1px 2px rgba(60, 64, 67, 0.3), 0px 1px 3px 1px rgba(60, 64, 67, 0.15);\n",
              "      fill: #174EA6;\n",
              "    }\n",
              "\n",
              "    [theme=dark] .colab-df-convert {\n",
              "      background-color: #3B4455;\n",
              "      fill: #D2E3FC;\n",
              "    }\n",
              "\n",
              "    [theme=dark] .colab-df-convert:hover {\n",
              "      background-color: #434B5C;\n",
              "      box-shadow: 0px 1px 3px 1px rgba(0, 0, 0, 0.15);\n",
              "      filter: drop-shadow(0px 1px 2px rgba(0, 0, 0, 0.3));\n",
              "      fill: #FFFFFF;\n",
              "    }\n",
              "  </style>\n",
              "\n",
              "      <script>\n",
              "        const buttonEl =\n",
              "          document.querySelector('#df-b82590fc-2045-41b8-ac4f-61fbe64a3590 button.colab-df-convert');\n",
              "        buttonEl.style.display =\n",
              "          google.colab.kernel.accessAllowed ? 'block' : 'none';\n",
              "\n",
              "        async function convertToInteractive(key) {\n",
              "          const element = document.querySelector('#df-b82590fc-2045-41b8-ac4f-61fbe64a3590');\n",
              "          const dataTable =\n",
              "            await google.colab.kernel.invokeFunction('convertToInteractive',\n",
              "                                                     [key], {});\n",
              "          if (!dataTable) return;\n",
              "\n",
              "          const docLinkHtml = 'Like what you see? Visit the ' +\n",
              "            '<a target=\"_blank\" href=https://colab.research.google.com/notebooks/data_table.ipynb>data table notebook</a>'\n",
              "            + ' to learn more about interactive tables.';\n",
              "          element.innerHTML = '';\n",
              "          dataTable['output_type'] = 'display_data';\n",
              "          await google.colab.output.renderOutput(dataTable, element);\n",
              "          const docLink = document.createElement('div');\n",
              "          docLink.innerHTML = docLinkHtml;\n",
              "          element.appendChild(docLink);\n",
              "        }\n",
              "      </script>\n",
              "    </div>\n",
              "  </div>\n",
              "  "
            ]
          },
          "metadata": {},
          "execution_count": 122
        }
      ]
    }
  ]
}