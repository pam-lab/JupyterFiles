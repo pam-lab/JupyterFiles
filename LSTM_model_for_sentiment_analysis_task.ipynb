{
  "nbformat": 4,
  "nbformat_minor": 0,
  "metadata": {
    "colab": {
      "name": "LSTM_model_for_sentiment_analysis_task.ipynb",
      "provenance": [],
      "collapsed_sections": [],
      "include_colab_link": true
    },
    "kernelspec": {
      "name": "python3",
      "display_name": "Python 3"
    },
    "language_info": {
      "name": "python"
    },
    "gpuClass": "standard"
  },
  "cells": [
    {
      "cell_type": "markdown",
      "metadata": {
        "id": "view-in-github",
        "colab_type": "text"
      },
      "source": [
        "<a href=\"https://colab.research.google.com/github/pam-lab/JupyterFiles/blob/main/LSTM_model_for_sentiment_analysis_task.ipynb\" target=\"_parent\"><img src=\"https://colab.research.google.com/assets/colab-badge.svg\" alt=\"Open In Colab\"/></a>"
      ]
    },
    {
      "cell_type": "code",
      "execution_count": null,
      "metadata": {
        "colab": {
          "base_uri": "https://localhost:8080/"
        },
        "id": "Lh0gPnUwOE7J",
        "outputId": "4c8bf95e-82e6-4465-8b36-c6d1f56506e4"
      },
      "outputs": [
        {
          "output_type": "stream",
          "name": "stdout",
          "text": [
            "Downloading...\n",
            "From: https://drive.google.com/uc?id=18l4Ca8KBkCo0-Eelt6dxAo6ve0lGEGuJ\n",
            "To: /content/dataset_annotated_sentiment.json\n",
            "\r  0% 0.00/1.74M [00:00<?, ?B/s]\r100% 1.74M/1.74M [00:00<00:00, 161MB/s]\n"
          ]
        }
      ],
      "source": [
        "'''\n",
        "download dataset\n",
        "'''\n",
        "\n",
        "# https://drive.google.com/file/d/18l4Ca8KBkCo0-Eelt6dxAo6ve0lGEGuJ/view?usp=sharing\n",
        "!gdown 18l4Ca8KBkCo0-Eelt6dxAo6ve0lGEGuJ"
      ]
    },
    {
      "cell_type": "code",
      "source": [
        "'''\n",
        "load train, eval, and test dataset to json format\n",
        "'''\n",
        "\n",
        "import json\n",
        "from pathlib import Path\n",
        "dataset = json.loads(Path('dataset_annotated_sentiment.json').read_text())\n",
        "train = dataset['train']\n",
        "eval = dataset['eval']\n",
        "test = dataset['test']"
      ],
      "metadata": {
        "id": "NSTONWkKPH0v"
      },
      "execution_count": null,
      "outputs": []
    },
    {
      "cell_type": "code",
      "source": [
        "!pip install hazm"
      ],
      "metadata": {
        "colab": {
          "base_uri": "https://localhost:8080/"
        },
        "id": "VlcFelAIPQ5r",
        "outputId": "26cfe822-243b-4b15-92ad-6b607b7e0a48"
      },
      "execution_count": null,
      "outputs": [
        {
          "output_type": "stream",
          "name": "stdout",
          "text": [
            "Looking in indexes: https://pypi.org/simple, https://us-python.pkg.dev/colab-wheels/public/simple/\n",
            "Requirement already satisfied: hazm in /usr/local/lib/python3.7/dist-packages (0.7.0)\n",
            "Requirement already satisfied: nltk==3.3 in /usr/local/lib/python3.7/dist-packages (from hazm) (3.3)\n",
            "Requirement already satisfied: libwapiti>=0.2.1 in /usr/local/lib/python3.7/dist-packages (from hazm) (0.2.1)\n",
            "Requirement already satisfied: six in /usr/local/lib/python3.7/dist-packages (from nltk==3.3->hazm) (1.15.0)\n"
          ]
        }
      ]
    },
    {
      "cell_type": "code",
      "source": [
        "from hazm import Normalizer\n",
        "from hazm import Lemmatizer\n",
        "\n",
        "normalizer = Normalizer()\n",
        "lemmatizer = Lemmatizer()"
      ],
      "metadata": {
        "id": "tjL5xaSwPSuu"
      },
      "execution_count": null,
      "outputs": []
    },
    {
      "cell_type": "code",
      "source": [
        "'''\n",
        "normalize and lemmatize train & eval dataset and convert to list format, and also\n",
        "convert labels to numerical format\n",
        "'''\n",
        "\n",
        "augmented_train = []\n",
        "# this is correct. But it shows bad because of RTL\n",
        "labels = {'خنثی': 0, 'مثبت': 1, 'منفی': -1}\n",
        "for item in train:\n",
        "    for label in item['annotations']:\n",
        "        augmented_train.append((lemmatizer.lemmatize(normalizer.normalize(item['text'])),labels[label]))\n",
        "for item in eval:\n",
        "    for label in item['annotations']:\n",
        "        augmented_train.append((lemmatizer.lemmatize(normalizer.normalize(item['text'])),labels[label]))"
      ],
      "metadata": {
        "id": "8Oxz_ISRPWo1"
      },
      "execution_count": null,
      "outputs": []
    },
    {
      "cell_type": "code",
      "source": [
        "'''\n",
        "normalize and lemmatize test dataset and convert to list format, and also\n",
        "convert labels to numerical format\n",
        "'''\n",
        "\n",
        "augmented_test = []\n",
        "# this is correct. But it shows bad because of RTL\n",
        "labels = {'خنثی': 0, 'مثبت': 1, 'منفی': -1}\n",
        "for item in test:\n",
        "    for label in item['annotations']:\n",
        "        augmented_test.append((lemmatizer.lemmatize(normalizer.normalize(item['text'])),labels[label]))"
      ],
      "metadata": {
        "id": "wRSHfknCPY8s"
      },
      "execution_count": null,
      "outputs": []
    },
    {
      "cell_type": "code",
      "source": [
        "'''\n",
        "convert train and test dataset to dataFrame format\n",
        "'''\n",
        "\n",
        "import pandas as pd\n",
        "augmented_train = pd.DataFrame(augmented_train)\n",
        "augmented_test = pd.DataFrame(augmented_test)"
      ],
      "metadata": {
        "id": "BQ1ZzRCuRVOA"
      },
      "execution_count": null,
      "outputs": []
    },
    {
      "cell_type": "code",
      "source": [
        "'''\n",
        "define test preprocessing function with regex library\n",
        "first, remove all english and numbers and special characters\n",
        "secondly, remove all punctuations\n",
        "finally, remove all urls\n",
        "'''\n",
        "\n",
        "import re\n",
        "def remove_english_number(text):\n",
        "  text = re.sub(\"[a-zA-Z0-9\\u200c\\n\\t_»«]+\", \"\",text)\n",
        "  text = re.sub(\"[^\\w\\s]\",'',text)\n",
        "  text = re.sub('https://.*','',text)\n",
        "  return text"
      ],
      "metadata": {
        "id": "cFhRASvef5Zp"
      },
      "execution_count": null,
      "outputs": []
    },
    {
      "cell_type": "code",
      "source": [
        "'''\n",
        "apply text preprocessing function to data\n",
        "'''\n",
        "\n",
        "for i in range(len(augmented_train[0])):\n",
        "  augmented_train[0][i] = remove_english_number(augmented_train[0][i])\n",
        "for i in range(len(augmented_test[0])):\n",
        "  augmented_test[0][i] = remove_english_number(augmented_test[0][i])"
      ],
      "metadata": {
        "colab": {
          "base_uri": "https://localhost:8080/"
        },
        "id": "cEKYqE6IiMjr",
        "outputId": "0e8f62fe-0295-4827-cb4f-d4d699f5afc5"
      },
      "execution_count": null,
      "outputs": [
        {
          "output_type": "stream",
          "name": "stderr",
          "text": [
            "/usr/local/lib/python3.7/dist-packages/ipykernel_launcher.py:2: SettingWithCopyWarning: \n",
            "A value is trying to be set on a copy of a slice from a DataFrame\n",
            "\n",
            "See the caveats in the documentation: https://pandas.pydata.org/pandas-docs/stable/user_guide/indexing.html#returning-a-view-versus-a-copy\n",
            "  \n",
            "/usr/local/lib/python3.7/dist-packages/ipykernel_launcher.py:4: SettingWithCopyWarning: \n",
            "A value is trying to be set on a copy of a slice from a DataFrame\n",
            "\n",
            "See the caveats in the documentation: https://pandas.pydata.org/pandas-docs/stable/user_guide/indexing.html#returning-a-view-versus-a-copy\n",
            "  after removing the cwd from sys.path.\n"
          ]
        }
      ]
    },
    {
      "cell_type": "code",
      "source": [
        "'''\n",
        "create vocabluary with corresponding word indices\n",
        "'''\n",
        "\n",
        "from collections import Counter\n",
        "all_text = ' '.join(augmented_train[0])\n",
        "all_text = all_text + ' '.join(augmented_test[0])\n",
        "# create a list of words\n",
        "words = all_text.split()\n",
        "# Count all the words using Counter Method\n",
        "count_words = Counter(words)\n",
        "total_words = len(words)\n",
        "sorted_words = count_words.most_common(total_words)\n",
        "vocab_to_int = {w:i+1 for i, (w,c) in enumerate(sorted_words)}"
      ],
      "metadata": {
        "id": "ckrhhHwzjHFM"
      },
      "execution_count": null,
      "outputs": []
    },
    {
      "cell_type": "code",
      "source": [
        "'''\n",
        "convert all text's words to integer form with above function\n",
        "'''\n",
        "\n",
        "text_int_train = []\n",
        "for text in augmented_train[0]:\n",
        "    r = [vocab_to_int[w] for w in text.split()]\n",
        "    text_int_train.append(r)\n",
        "\n",
        "text_int_test = []\n",
        "for text in augmented_test[0]:\n",
        "    r = [vocab_to_int[w] for w in text.split()]\n",
        "    text_int_test.append(r)"
      ],
      "metadata": {
        "id": "xc5oMdyPk-zM"
      },
      "execution_count": null,
      "outputs": []
    },
    {
      "cell_type": "code",
      "source": [
        "'''\n",
        "plot statistical features for trainset data\n",
        "'''\n",
        "\n",
        "import matplotlib.pyplot as plt\n",
        "%matplotlib inline\n",
        "train_title_len = [len(x) for x in text_int_train]\n",
        "pd.Series(train_title_len).hist()\n",
        "plt.show()\n",
        "pd.Series(train_title_len).describe()"
      ],
      "metadata": {
        "colab": {
          "base_uri": "https://localhost:8080/",
          "height": 421
        },
        "id": "1awI-_LimTXW",
        "outputId": "d680ba9f-e441-4790-b1e6-0abedfa674e8"
      },
      "execution_count": null,
      "outputs": [
        {
          "output_type": "display_data",
          "data": {
            "text/plain": [
              "<Figure size 432x288 with 1 Axes>"
            ],
            "image/png": "[encoded data removed]"
          },
          "metadata": {
            "needs_background": "light"
          }
        },
        {
          "output_type": "execute_result",
          "data": {
            "text/plain": [
              "count    4190.000000\n",
              "mean      106.225537\n",
              "std        49.382846\n",
              "min         9.000000\n",
              "25%        77.000000\n",
              "50%        98.000000\n",
              "75%       124.000000\n",
              "max       556.000000\n",
              "dtype: float64"
            ]
          },
          "metadata": {},
          "execution_count": 12
        }
      ]
    },
    {
      "cell_type": "code",
      "source": [
        "'''\n",
        "plot statistical features for trainset data\n",
        "'''\n",
        "\n",
        "test_title_len = [len(x) for x in text_int_test]\n",
        "pd.Series(test_title_len).hist()\n",
        "plt.show()\n",
        "pd.Series(test_title_len).describe()"
      ],
      "metadata": {
        "colab": {
          "base_uri": "https://localhost:8080/",
          "height": 421
        },
        "id": "jSM9i5IwmyQN",
        "outputId": "46620539-958c-4029-9463-91ccf266a90d"
      },
      "execution_count": null,
      "outputs": [
        {
          "output_type": "display_data",
          "data": {
            "text/plain": [
              "<Figure size 432x288 with 1 Axes>"
            ],
            "image/png": "[encoded data removed]"
          },
          "metadata": {
            "needs_background": "light"
          }
        },
        {
          "output_type": "execute_result",
          "data": {
            "text/plain": [
              "count    197.000000\n",
              "mean     101.091371\n",
              "std       38.807765\n",
              "min       10.000000\n",
              "25%       77.000000\n",
              "50%       99.000000\n",
              "75%      126.000000\n",
              "max      214.000000\n",
              "dtype: float64"
            ]
          },
          "metadata": {},
          "execution_count": 13
        }
      ]
    },
    {
      "cell_type": "code",
      "source": [
        "'''\n",
        "remove very small or long texts in training dataset\n",
        "'''\n",
        "\n",
        "text_int_train = [ text_int_train[i] for i, l in enumerate(train_title_len) if l>0 ]\n",
        "encoded_labels_train = [ augmented_train[1][i] for i, l in enumerate(train_title_len) if l> 0 ]"
      ],
      "metadata": {
        "id": "dc9ovyGKm22K"
      },
      "execution_count": null,
      "outputs": []
    },
    {
      "cell_type": "code",
      "source": [
        "'''\n",
        "remove very small or long texts in testing dataset\n",
        "'''\n",
        "\n",
        "text_int_test = [ text_int_test[i] for i, l in enumerate(test_title_len) if l>0 ]\n",
        "encoded_labels_test = [ augmented_test[1][i] for i, l in enumerate(test_title_len) if l> 0 ]"
      ],
      "metadata": {
        "id": "RVyvdFQGm2LA"
      },
      "execution_count": null,
      "outputs": []
    },
    {
      "cell_type": "code",
      "source": [
        "'''\n",
        "declare padding or cropping function for convert texts to fixed-size one\n",
        "'''\n",
        "\n",
        "import numpy as np\n",
        "def pad_features(reviews_int, seq_length):\n",
        "    ''' Return features of review_ints, where each review is padded with 0's or truncated to the input seq_length.\n",
        "    '''\n",
        "    features = np.zeros((len(reviews_int), seq_length), dtype = int)\n",
        "    for i, review in enumerate(reviews_int):\n",
        "        review_len = len(review)\n",
        "        if review_len <= seq_length:\n",
        "            zeroes = list(np.zeros(seq_length-review_len))\n",
        "            new = np.append(zeroes, review)\n",
        "        elif review_len > seq_length:\n",
        "            new = review[0:seq_length]\n",
        "        \n",
        "        features[i,:] = np.array(new)\n",
        "    \n",
        "    return features"
      ],
      "metadata": {
        "id": "wEJfCq40n4s3"
      },
      "execution_count": null,
      "outputs": []
    },
    {
      "cell_type": "code",
      "source": [
        "'''\n",
        "apply padding and cropping function to data\n",
        "'''\n",
        "\n",
        "text_int_train = pad_features(text_int_train,100)\n",
        "text_int_test = pad_features(text_int_test,100)"
      ],
      "metadata": {
        "id": "Y815zHSxsXf2"
      },
      "execution_count": null,
      "outputs": []
    },
    {
      "cell_type": "code",
      "source": [
        "'''\n",
        "convert python lists to numpy array for all news titles\n",
        "'''\n",
        "\n",
        "text_int_train = [np.array(text_int_train[i]) for i in range(len(text_int_train))]\n",
        "text_int_test = [np.array(text_int_test[i]) for i in range(len(text_int_test))]"
      ],
      "metadata": {
        "id": "KVPPqrcYrWx3"
      },
      "execution_count": null,
      "outputs": []
    },
    {
      "cell_type": "code",
      "source": [
        "'''\n",
        "convert train and test set to numpy arrays and create one-hot encoding\n",
        "format of labels\n",
        "'''\n",
        "\n",
        "train_x = np.array(text_int_train)\n",
        "train_y = np.array(encoded_labels_train)\n",
        "train_y = pd.get_dummies(encoded_labels_train).values\n",
        "\n",
        "test_x = np.array(text_int_test)\n",
        "test_y = np.array(encoded_labels_test)\n",
        "test_y = pd.get_dummies(encoded_labels_test).values"
      ],
      "metadata": {
        "id": "XTP8WNEzoIMc"
      },
      "execution_count": null,
      "outputs": []
    },
    {
      "cell_type": "code",
      "source": [
        "'''\n",
        "define keras model for training\n",
        "*convert all word vectors to fixed format: 400\n",
        "our model is embedding+dropout+LSTM+Dense+softmax\n",
        "we use categorical cross entropy loss function\n",
        "'''\n",
        "\n",
        "from keras.preprocessing.text import Tokenizer\n",
        "from keras.preprocessing.sequence import pad_sequences\n",
        "from keras.models import Sequential\n",
        "from keras.layers import Dense, Embedding, LSTM, SpatialDropout1D\n",
        "from sklearn.model_selection import train_test_split\n",
        "from keras.utils.np_utils import to_categorical\n",
        "from keras.callbacks import EarlyStopping\n",
        "from keras.layers import Dropout\n",
        "\n",
        "vocab_size = len(vocab_to_int)+1 # +1 for the 0 padding\n",
        "embedding_dim = 400\n",
        "\n",
        "model = Sequential()\n",
        "model.add(Embedding(vocab_size, embedding_dim, input_length=100))\n",
        "model.add(SpatialDropout1D(0.2))\n",
        "model.add(LSTM(embedding_dim, dropout=0.2, recurrent_dropout=0.2))\n",
        "model.add(Dense(3, activation='softmax'))\n",
        "model.compile(loss='categorical_crossentropy', optimizer='adam', metrics=['accuracy'])\n",
        "print(model.summary())"
      ],
      "metadata": {
        "colab": {
          "base_uri": "https://localhost:8080/"
        },
        "id": "4D7W7fxeknJk",
        "outputId": "c2112b55-eaf4-4fc7-db33-33ac36d136f6"
      },
      "execution_count": null,
      "outputs": [
        {
          "output_type": "stream",
          "name": "stdout",
          "text": [
            "Model: \"sequential\"\n",
            "_________________________________________________________________\n",
            " Layer (type)                Output Shape              Param #   \n",
            "=================================================================\n",
            " embedding (Embedding)       (None, 100, 400)          6818000   \n",
            "                                                                 \n",
            " spatial_dropout1d (SpatialD  (None, 100, 400)         0         \n",
            " ropout1D)                                                       \n",
            "                                                                 \n",
            " lstm (LSTM)                 (None, 400)               1281600   \n",
            "                                                                 \n",
            " dense (Dense)               (None, 3)                 1203      \n",
            "                                                                 \n",
            "=================================================================\n",
            "Total params: 8,100,803\n",
            "Trainable params: 8,100,803\n",
            "Non-trainable params: 0\n",
            "_________________________________________________________________\n",
            "None\n"
          ]
        }
      ]
    },
    {
      "cell_type": "code",
      "source": [
        "'''\n",
        "we train the model in 5 epochs with 64 batch size\n",
        "\n",
        "we acquire about  76% accuracy for training phase and 52% accuracy for validation\n",
        "'''\n",
        "\n",
        "epochs = 5\n",
        "batch_size = 64\n",
        "\n",
        "history = model.fit(train_x, train_y, epochs=epochs, batch_size=batch_size,validation_split=0.1,callbacks=[EarlyStopping(monitor='val_loss', patience=3, min_delta=0.0001)])"
      ],
      "metadata": {
        "colab": {
          "base_uri": "https://localhost:8080/"
        },
        "id": "ScK7tqlklg2P",
        "outputId": "f08b6803-79e3-4958-f947-773278fc264c"
      },
      "execution_count": null,
      "outputs": [
        {
          "output_type": "stream",
          "name": "stdout",
          "text": [
            "Epoch 1/5\n",
            "59/59 [==============================] - 185s 3s/step - loss: 0.9998 - accuracy: 0.5243 - val_loss: 1.0345 - val_accuracy: 0.4964\n",
            "Epoch 2/5\n",
            "59/59 [==============================] - 168s 3s/step - loss: 0.7167 - accuracy: 0.7003 - val_loss: 1.0607 - val_accuracy: 0.5322\n",
            "Epoch 3/5\n",
            "59/59 [==============================] - 168s 3s/step - loss: 0.5555 - accuracy: 0.7552 - val_loss: 1.1059 - val_accuracy: 0.5251\n",
            "Epoch 4/5\n",
            "59/59 [==============================] - 167s 3s/step - loss: 0.5014 - accuracy: 0.7616 - val_loss: 1.1267 - val_accuracy: 0.5203\n"
          ]
        }
      ]
    },
    {
      "cell_type": "code",
      "source": [
        "'''\n",
        "test trained model on testing dataset, we acquire about 55% accuracy on testing data \n",
        "'''\n",
        "\n",
        "accr = model.evaluate(test_x,test_y)\n",
        "print('Test set\\n  Loss: {:0.3f}\\n  Accuracy: {:0.3f}'.format(accr[0],accr[1]))"
      ],
      "metadata": {
        "colab": {
          "base_uri": "https://localhost:8080/"
        },
        "id": "7kRStQx1n2Dw",
        "outputId": "65de1915-b9b8-41fb-a5d9-2294fceaf019"
      },
      "execution_count": null,
      "outputs": [
        {
          "output_type": "stream",
          "name": "stdout",
          "text": [
            "7/7 [==============================] - 3s 384ms/step - loss: 1.0466 - accuracy: 0.5533\n",
            "Test set\n",
            "  Loss: 1.047\n",
            "  Accuracy: 0.553\n"
          ]
        }
      ]
    }
  ]
}