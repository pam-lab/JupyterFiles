{
  "nbformat": 4,
  "nbformat_minor": 0,
  "metadata": {
    "colab": {
      "name": "SequenceLabelingNLP.ipynb",
      "provenance": [],
      "authorship_tag": "ABX9TyPfJUWegsYY2iiOH8BKdA4F",
      "include_colab_link": true
    },
    "kernelspec": {
      "name": "python3",
      "display_name": "Python 3"
    },
    "language_info": {
      "name": "python"
    }
  },
  "cells": [
    {
      "cell_type": "markdown",
      "metadata": {
        "id": "view-in-github",
        "colab_type": "text"
      },
      "source": [
        "<a href=\"https://colab.research.google.com/github/pam-lab/JupyterFiles/blob/main/SequenceLabelingNLP.ipynb\" target=\"_parent\"><img src=\"https://colab.research.google.com/assets/colab-badge.svg\" alt=\"Open In Colab\"/></a>"
      ]
    },
    {
      "cell_type": "code",
      "execution_count": 4,
      "metadata": {
        "colab": {
          "base_uri": "https://localhost:8080/"
        },
        "id": "oT95pNY-Tiaz",
        "outputId": "2073a78b-6f2d-4ef8-8217-6e856b124977"
      },
      "outputs": [
        {
          "output_type": "stream",
          "name": "stdout",
          "text": [
            "Downloading...\n",
            "From: https://drive.google.com/uc?id=19lxG5JdxKTpNvipzP3DucvHluXjpyA7z\n",
            "To: /content/dataset_annotated_splited.json\n",
            "\r  0% 0.00/3.27M [00:00<?, ?B/s]\r100% 3.27M/3.27M [00:00<00:00, 248MB/s]\n"
          ]
        }
      ],
      "source": [
        "!gdown 19lxG5JdxKTpNvipzP3DucvHluXjpyA7z"
      ]
    },
    {
      "cell_type": "code",
      "source": [
        "ls"
      ],
      "metadata": {
        "colab": {
          "base_uri": "https://localhost:8080/"
        },
        "id": "d2d24JLET27g",
        "outputId": "498febd9-78ac-4987-ffe7-a02e107e5bb3"
      },
      "execution_count": 2,
      "outputs": [
        {
          "output_type": "stream",
          "name": "stdout",
          "text": [
            " \u001b[0m\u001b[01;34msample_data\u001b[0m/  'view?usp=sharing'\n"
          ]
        }
      ]
    },
    {
      "cell_type": "code",
      "source": [
        ""
      ],
      "metadata": {
        "id": "E1VWFmv0T66F"
      },
      "execution_count": null,
      "outputs": []
    }
  ]
}